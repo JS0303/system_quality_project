{
  "nbformat": 4,
  "nbformat_minor": 0,
  "metadata": {
    "colab": {
      "name": "시스템_품질_소비자_불편_LJS.ipynb",
      "provenance": [],
      "collapsed_sections": [
        "v00T_sTkzpiZ",
        "KZre6DkgyDBc",
        "Yj_RyVgwyeIi",
        "IOJR5juCIyOk",
        "mUzZ2D4hJZu8",
        "mVmbEsovJfNu"
      ],
      "toc_visible": true
    },
    "kernelspec": {
      "name": "python3",
      "display_name": "Python 3"
    },
    "language_info": {
      "name": "python"
    }
  },
  "cells": [
    {
      "cell_type": "markdown",
      "source": [
        "## 소개\n",
        "### 1.배경\n",
        "#### 다양한 장비/서비스에서 일어나는 시스템 데이터를 통해 사용자의 불편을 예지하기 위해 ‘시스템 데이터’와 ‘사용자 불편 발생 데이터’를 분석하여 불편을 느낀 사용자와 불편 요인들을 찾아주세요.\n",
        "### 2.목적\n",
        "#### 데이터를 통해 사용자가 불편을 느끼는 원인 분석"
      ],
      "metadata": {
        "id": "83xB3YY_pJWr"
      }
    },
    {
      "cell_type": "markdown",
      "source": [
        "## 데이터셋에 대한 설명\n",
        "\n",
        "### 학습 데이터 (user_id : 10000 ~ 24999, 15000명)\n",
        "\n",
        "\n",
        "\t\t\ttrain_quality_data.csv : 시스템 퀄리티 로그\n",
        "\n",
        "\t\t\ttrain_problem_data.csv : 사용자 불만 및 불만이 접수된 시간\n",
        "\n",
        "\t\t\ttrain_err_data.csv : 시스템에 발생한 에러 로그\n",
        "\n",
        "\n",
        "\n",
        "### 테스트 데이터(user_id : 30000 ~ 44998, 14999명)\n",
        "\n",
        "\n",
        "\t\t\ttest_quality_data.csv : 시스템 퀄리티 로그\n",
        "\n",
        "\t\t\ttest_err_data.csv : 시스템에 발생한 에러 로그\n",
        "\n",
        "\t\t\tsample_submission.csv : 사용자 불만 확률(0~1) (제출용)"
      ],
      "metadata": {
        "id": "MGgqXYLDpy3J"
      }
    },
    {
      "cell_type": "markdown",
      "source": [
        "## 컬럼별 설명\n",
        "#### train_quality_data\n",
        "- time : 로그발생시간 \n",
        "- user_id : 사용자ID\n",
        "- fwver : 펌웨어버전\n",
        "- quality_0 ~ quality_12 : 번호가 매겨진 각 퀄리티  \n",
        "---\n",
        "#### train_problem_data\n",
        "- user_id : 사용자ID\n",
        "- time : 불만접수시간\n",
        "---\n",
        "#### train_err_data\n",
        "- user_id : 사용자ID\n",
        "- time : 로그발생시간\n",
        "- model_nm : 모델명\n",
        "- fwver : 펌웨어버전\n",
        "- errtype : 에러타입\n",
        "- errcode : 에러코드\n",
        "---\n"
      ],
      "metadata": {
        "id": "A4vaylrmw0p_"
      }
    },
    {
      "cell_type": "markdown",
      "source": [
        "# EDA"
      ],
      "metadata": {
        "id": "gxrKrdsouX2l"
      }
    },
    {
      "cell_type": "code",
      "execution_count": 2,
      "metadata": {
        "id": "a082cJyZnyim"
      },
      "outputs": [],
      "source": [
        "# 기본 모듈 import\n",
        "import numpy as np\n",
        "import pandas as pd\n",
        "import matplotlib.pyplot as plt\n",
        "import seaborn as sns "
      ]
    },
    {
      "cell_type": "code",
      "source": [
        "# path 지정\n",
        "base_path = \"/content/drive/MyDrive/Colab Notebooks/data/235687_시스템 품질 변화로 인한 사용자 불편 예지 AI 경진대회_data/\"\n",
        "save_path = \"/content/drive/MyDrive/Colab Notebooks/data/235687_시스템 품질 변화로 인한 사용자 불편 예지 AI 경진대회_data/result/\""
      ],
      "metadata": {
        "id": "MpxYVfLJoC2D"
      },
      "execution_count": 47,
      "outputs": []
    },
    {
      "cell_type": "code",
      "source": [
        "# train data 불러오기\n",
        "train_quality = pd.read_csv(base_path+'train_quality_data.csv')\n",
        "train_problem = pd.read_csv(base_path+'train_problem_data.csv')\n",
        "train_error = pd.read_csv(base_path+'train_err_data.csv')\n",
        "test_quality = pd.read_csv(base_path+'test_quality_data.csv')\n",
        "test_error = pd.read_csv(base_path+'test_err_data.csv')"
      ],
      "metadata": {
        "colab": {
          "base_uri": "https://localhost:8080/"
        },
        "id": "XC-pf5gOoZBS",
        "outputId": "d974c004-a3a0-422f-9105-83cf86e33468"
      },
      "execution_count": 63,
      "outputs": [
        {
          "output_type": "stream",
          "name": "stderr",
          "text": [
            "/usr/local/lib/python3.7/dist-packages/IPython/core/interactiveshell.py:2882: DtypeWarning: Columns (10,11,12) have mixed types.Specify dtype option on import or set low_memory=False.\n",
            "  exec(code_obj, self.user_global_ns, self.user_ns)\n",
            "/usr/local/lib/python3.7/dist-packages/IPython/core/interactiveshell.py:2882: DtypeWarning: Columns (4,11,12) have mixed types.Specify dtype option on import or set low_memory=False.\n",
            "  exec(code_obj, self.user_global_ns, self.user_ns)\n"
          ]
        }
      ]
    },
    {
      "cell_type": "markdown",
      "source": [
        "### Train Data 파일이 3개??\n",
        "![KakaoTalk_Photo_2022-06-08-19-02-52.jpeg](data:image/jpeg;base64,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)    왜????"
      ],
      "metadata": {
        "id": "n8nvr5Qwwwnb"
      }
    },
    {
      "cell_type": "code",
      "source": [
        "pd.options.display.max_columns=50\n",
        "pd.options.display.max_rows=200"
      ],
      "metadata": {
        "id": "jQRaJjtOvAmf"
      },
      "execution_count": 5,
      "outputs": []
    },
    {
      "cell_type": "markdown",
      "source": [
        "## quaulity data 확인해보기"
      ],
      "metadata": {
        "id": "psH1Q5XbyVTd"
      }
    },
    {
      "cell_type": "code",
      "source": [
        "train_quality.info()"
      ],
      "metadata": {
        "colab": {
          "base_uri": "https://localhost:8080/"
        },
        "id": "Wb4opV3Ro27P",
        "outputId": "054ca816-cbb3-475c-c52a-628a3ea3bcf8"
      },
      "execution_count": 6,
      "outputs": [
        {
          "output_type": "stream",
          "name": "stdout",
          "text": [
            "<class 'pandas.core.frame.DataFrame'>\n",
            "RangeIndex: 828624 entries, 0 to 828623\n",
            "Data columns (total 16 columns):\n",
            " #   Column      Non-Null Count   Dtype  \n",
            "---  ------      --------------   -----  \n",
            " 0   time        828624 non-null  int64  \n",
            " 1   user_id     828624 non-null  int64  \n",
            " 2   fwver       788544 non-null  object \n",
            " 3   quality_0   684192 non-null  float64\n",
            " 4   quality_1   828624 non-null  int64  \n",
            " 5   quality_2   788511 non-null  float64\n",
            " 6   quality_3   828624 non-null  int64  \n",
            " 7   quality_4   828624 non-null  int64  \n",
            " 8   quality_5   828604 non-null  object \n",
            " 9   quality_6   828624 non-null  int64  \n",
            " 10  quality_7   828624 non-null  object \n",
            " 11  quality_8   828624 non-null  object \n",
            " 12  quality_9   828624 non-null  object \n",
            " 13  quality_10  828624 non-null  object \n",
            " 14  quality_11  828624 non-null  int64  \n",
            " 15  quality_12  828624 non-null  int64  \n",
            "dtypes: float64(2), int64(8), object(6)\n",
            "memory usage: 101.2+ MB\n"
          ]
        }
      ]
    },
    {
      "cell_type": "markdown",
      "source": [
        "### 총 828624행"
      ],
      "metadata": {
        "id": "ovZiFX4ZwqyP"
      }
    },
    {
      "cell_type": "markdown",
      "source": [
        "#### quality에서 전처리 해줘야할 컬럼\n",
        "fwver : 05.15.2138 과 같이 되어있음 (object)  \n",
        "quality_5, 7,8,9,10 : object"
      ],
      "metadata": {
        "id": "v00T_sTkzpiZ"
      }
    },
    {
      "cell_type": "code",
      "source": [
        "train_quality[\"quality_0\"].nunique()"
      ],
      "metadata": {
        "colab": {
          "base_uri": "https://localhost:8080/"
        },
        "id": "gUizqrmJAx-X",
        "outputId": "b4202f04-fad8-47db-ba2b-090f699691fd"
      },
      "execution_count": 7,
      "outputs": [
        {
          "output_type": "execute_result",
          "data": {
            "text/plain": [
              "753"
            ]
          },
          "metadata": {},
          "execution_count": 7
        }
      ]
    },
    {
      "cell_type": "code",
      "source": [
        "train_quality[\"quality_1\"].nunique()"
      ],
      "metadata": {
        "colab": {
          "base_uri": "https://localhost:8080/"
        },
        "id": "jFRsc5LDAx8A",
        "outputId": "5befcdd7-1a27-4c8d-d4c5-30f5cfd8479d"
      },
      "execution_count": 8,
      "outputs": [
        {
          "output_type": "execute_result",
          "data": {
            "text/plain": [
              "31"
            ]
          },
          "metadata": {},
          "execution_count": 8
        }
      ]
    },
    {
      "cell_type": "code",
      "source": [
        "train_quality[\"quality_2\"].nunique()"
      ],
      "metadata": {
        "colab": {
          "base_uri": "https://localhost:8080/"
        },
        "id": "a1eDDONVAx5c",
        "outputId": "71832cfb-0ff7-493e-8b71-4e8860be00e3"
      },
      "execution_count": 9,
      "outputs": [
        {
          "output_type": "execute_result",
          "data": {
            "text/plain": [
              "798"
            ]
          },
          "metadata": {},
          "execution_count": 9
        }
      ]
    },
    {
      "cell_type": "code",
      "source": [
        "train_quality[\"quality_0\"]"
      ],
      "metadata": {
        "colab": {
          "base_uri": "https://localhost:8080/"
        },
        "id": "5T_O_PklA5PZ",
        "outputId": "120610be-5ae1-4d41-93e8-e08047414fa9"
      },
      "execution_count": 10,
      "outputs": [
        {
          "output_type": "execute_result",
          "data": {
            "text/plain": [
              "0         0.0\n",
              "1         0.0\n",
              "2         0.0\n",
              "3         0.0\n",
              "4         0.0\n",
              "         ... \n",
              "828619    0.0\n",
              "828620    0.0\n",
              "828621    0.0\n",
              "828622    0.0\n",
              "828623    0.0\n",
              "Name: quality_0, Length: 828624, dtype: float64"
            ]
          },
          "metadata": {},
          "execution_count": 10
        }
      ]
    },
    {
      "cell_type": "code",
      "source": [
        "train_quality[\"quality_5\"].nunique()"
      ],
      "metadata": {
        "colab": {
          "base_uri": "https://localhost:8080/"
        },
        "id": "GISV3_CQ9dDE",
        "outputId": "75d97f61-45ad-4238-9ff4-15551f677559"
      },
      "execution_count": 11,
      "outputs": [
        {
          "output_type": "execute_result",
          "data": {
            "text/plain": [
              "4744"
            ]
          },
          "metadata": {},
          "execution_count": 11
        }
      ]
    },
    {
      "cell_type": "code",
      "source": [
        "train_quality[\"quality_7\"].nunique()"
      ],
      "metadata": {
        "colab": {
          "base_uri": "https://localhost:8080/"
        },
        "id": "2sSAnapFAMT_",
        "outputId": "95ca5598-ef04-4e52-ac6f-8708d98bb059"
      },
      "execution_count": 12,
      "outputs": [
        {
          "output_type": "execute_result",
          "data": {
            "text/plain": [
              "908"
            ]
          },
          "metadata": {},
          "execution_count": 12
        }
      ]
    },
    {
      "cell_type": "code",
      "source": [
        "train_quality[\"quality_8\"].nunique()"
      ],
      "metadata": {
        "colab": {
          "base_uri": "https://localhost:8080/"
        },
        "id": "cQERIRDPAMMs",
        "outputId": "74b4f5fe-84bf-4e54-d11a-2db665c3b20d"
      },
      "execution_count": 13,
      "outputs": [
        {
          "output_type": "execute_result",
          "data": {
            "text/plain": [
              "52"
            ]
          },
          "metadata": {},
          "execution_count": 13
        }
      ]
    },
    {
      "cell_type": "code",
      "source": [
        "train_quality[\"quality_9\"].nunique()"
      ],
      "metadata": {
        "colab": {
          "base_uri": "https://localhost:8080/"
        },
        "id": "zxU60gBhAMFu",
        "outputId": "5303e916-5b47-4d61-bc3e-01e27090200e"
      },
      "execution_count": 14,
      "outputs": [
        {
          "output_type": "execute_result",
          "data": {
            "text/plain": [
              "539"
            ]
          },
          "metadata": {},
          "execution_count": 14
        }
      ]
    },
    {
      "cell_type": "code",
      "source": [
        "train_quality[\"quality_10\"].nunique()"
      ],
      "metadata": {
        "colab": {
          "base_uri": "https://localhost:8080/"
        },
        "id": "_e8weX3MAL_b",
        "outputId": "5eea64e3-ad62-4e8b-d6e8-9b2890e92004"
      },
      "execution_count": 15,
      "outputs": [
        {
          "output_type": "execute_result",
          "data": {
            "text/plain": [
              "4200"
            ]
          },
          "metadata": {},
          "execution_count": 15
        }
      ]
    },
    {
      "cell_type": "code",
      "source": [
        "train_quality[\"quality_5\"]"
      ],
      "metadata": {
        "colab": {
          "base_uri": "https://localhost:8080/"
        },
        "id": "vSdvtOPEArK9",
        "outputId": "55667288-8a8b-45ef-d6dc-a0c7383ee567"
      },
      "execution_count": 16,
      "outputs": [
        {
          "output_type": "execute_result",
          "data": {
            "text/plain": [
              "0         0\n",
              "1         0\n",
              "2         0\n",
              "3         0\n",
              "4         0\n",
              "         ..\n",
              "828619    1\n",
              "828620    0\n",
              "828621    3\n",
              "828622    0\n",
              "828623    9\n",
              "Name: quality_5, Length: 828624, dtype: object"
            ]
          },
          "metadata": {},
          "execution_count": 16
        }
      ]
    },
    {
      "cell_type": "code",
      "source": [
        "train_quality.head(10)"
      ],
      "metadata": {
        "colab": {
          "base_uri": "https://localhost:8080/",
          "height": 383
        },
        "id": "l5FPISazozAf",
        "outputId": "535155af-40bd-4407-8be7-37a0caf66bea"
      },
      "execution_count": 17,
      "outputs": [
        {
          "output_type": "execute_result",
          "data": {
            "text/plain": [
              "             time  user_id       fwver  quality_0  quality_1  quality_2  \\\n",
              "0  20201129090000    10000  05.15.2138        0.0          0        0.0   \n",
              "1  20201129090000    10000  05.15.2138        0.0          0        0.0   \n",
              "2  20201129090000    10000  05.15.2138        0.0          0        0.0   \n",
              "3  20201129090000    10000  05.15.2138        0.0          0        0.0   \n",
              "4  20201129090000    10000  05.15.2138        0.0          0        0.0   \n",
              "5  20201129090000    10000  05.15.2138        0.0          0        0.0   \n",
              "6  20201129090000    10000  05.15.2138        0.0          0        0.0   \n",
              "7  20201129090000    10000  05.15.2138        0.0          0        0.0   \n",
              "8  20201129090000    10000  05.15.2138        0.0          0        0.0   \n",
              "9  20201129090000    10000  05.15.2138        0.0          0        0.0   \n",
              "\n",
              "   quality_3  quality_4 quality_5  quality_6 quality_7 quality_8 quality_9  \\\n",
              "0          0          0         0          0         0         0         0   \n",
              "1          0          0         0          0         0         0         0   \n",
              "2          0          0         0          0         0         0         0   \n",
              "3          0          0         0          0         0         0         0   \n",
              "4          0          0         0          0         0         0         0   \n",
              "5          0          0         0          0         0         0         0   \n",
              "6          0          0         4          0         0         0         0   \n",
              "7          0          0         0          0         0         0         0   \n",
              "8          0          0         0          0         0         0         0   \n",
              "9          0          0         0          0         0         0         0   \n",
              "\n",
              "  quality_10  quality_11  quality_12  \n",
              "0          4           0           0  \n",
              "1          4           0           0  \n",
              "2          4           0           0  \n",
              "3          4           0           0  \n",
              "4          4           0           0  \n",
              "5          4           0           0  \n",
              "6          4           0           0  \n",
              "7          4           0           0  \n",
              "8          4           0           0  \n",
              "9          4           0           0  "
            ],
            "text/html": [
              "<div>\n",
              "<style scoped>\n",
              "    .dataframe tbody tr th:only-of-type {\n",
              "        vertical-align: middle;\n",
              "    }\n",
              "\n",
              "    .dataframe tbody tr th {\n",
              "        vertical-align: top;\n",
              "    }\n",
              "\n",
              "    .dataframe thead th {\n",
              "        text-align: right;\n",
              "    }\n",
              "</style>\n",
              "<table border=\"1\" class=\"dataframe\">\n",
              "  <thead>\n",
              "    <tr style=\"text-align: right;\">\n",
              "      <th></th>\n",
              "      <th>time</th>\n",
              "      <th>user_id</th>\n",
              "      <th>fwver</th>\n",
              "      <th>quality_0</th>\n",
              "      <th>quality_1</th>\n",
              "      <th>quality_2</th>\n",
              "      <th>quality_3</th>\n",
              "      <th>quality_4</th>\n",
              "      <th>quality_5</th>\n",
              "      <th>quality_6</th>\n",
              "      <th>quality_7</th>\n",
              "      <th>quality_8</th>\n",
              "      <th>quality_9</th>\n",
              "      <th>quality_10</th>\n",
              "      <th>quality_11</th>\n",
              "      <th>quality_12</th>\n",
              "    </tr>\n",
              "  </thead>\n",
              "  <tbody>\n",
              "    <tr>\n",
              "      <th>0</th>\n",
              "      <td>20201129090000</td>\n",
              "      <td>10000</td>\n",
              "      <td>05.15.2138</td>\n",
              "      <td>0.0</td>\n",
              "      <td>0</td>\n",
              "      <td>0.0</td>\n",
              "      <td>0</td>\n",
              "      <td>0</td>\n",
              "      <td>0</td>\n",
              "      <td>0</td>\n",
              "      <td>0</td>\n",
              "      <td>0</td>\n",
              "      <td>0</td>\n",
              "      <td>4</td>\n",
              "      <td>0</td>\n",
              "      <td>0</td>\n",
              "    </tr>\n",
              "    <tr>\n",
              "      <th>1</th>\n",
              "      <td>20201129090000</td>\n",
              "      <td>10000</td>\n",
              "      <td>05.15.2138</td>\n",
              "      <td>0.0</td>\n",
              "      <td>0</td>\n",
              "      <td>0.0</td>\n",
              "      <td>0</td>\n",
              "      <td>0</td>\n",
              "      <td>0</td>\n",
              "      <td>0</td>\n",
              "      <td>0</td>\n",
              "      <td>0</td>\n",
              "      <td>0</td>\n",
              "      <td>4</td>\n",
              "      <td>0</td>\n",
              "      <td>0</td>\n",
              "    </tr>\n",
              "    <tr>\n",
              "      <th>2</th>\n",
              "      <td>20201129090000</td>\n",
              "      <td>10000</td>\n",
              "      <td>05.15.2138</td>\n",
              "      <td>0.0</td>\n",
              "      <td>0</td>\n",
              "      <td>0.0</td>\n",
              "      <td>0</td>\n",
              "      <td>0</td>\n",
              "      <td>0</td>\n",
              "      <td>0</td>\n",
              "      <td>0</td>\n",
              "      <td>0</td>\n",
              "      <td>0</td>\n",
              "      <td>4</td>\n",
              "      <td>0</td>\n",
              "      <td>0</td>\n",
              "    </tr>\n",
              "    <tr>\n",
              "      <th>3</th>\n",
              "      <td>20201129090000</td>\n",
              "      <td>10000</td>\n",
              "      <td>05.15.2138</td>\n",
              "      <td>0.0</td>\n",
              "      <td>0</td>\n",
              "      <td>0.0</td>\n",
              "      <td>0</td>\n",
              "      <td>0</td>\n",
              "      <td>0</td>\n",
              "      <td>0</td>\n",
              "      <td>0</td>\n",
              "      <td>0</td>\n",
              "      <td>0</td>\n",
              "      <td>4</td>\n",
              "      <td>0</td>\n",
              "      <td>0</td>\n",
              "    </tr>\n",
              "    <tr>\n",
              "      <th>4</th>\n",
              "      <td>20201129090000</td>\n",
              "      <td>10000</td>\n",
              "      <td>05.15.2138</td>\n",
              "      <td>0.0</td>\n",
              "      <td>0</td>\n",
              "      <td>0.0</td>\n",
              "      <td>0</td>\n",
              "      <td>0</td>\n",
              "      <td>0</td>\n",
              "      <td>0</td>\n",
              "      <td>0</td>\n",
              "      <td>0</td>\n",
              "      <td>0</td>\n",
              "      <td>4</td>\n",
              "      <td>0</td>\n",
              "      <td>0</td>\n",
              "    </tr>\n",
              "    <tr>\n",
              "      <th>5</th>\n",
              "      <td>20201129090000</td>\n",
              "      <td>10000</td>\n",
              "      <td>05.15.2138</td>\n",
              "      <td>0.0</td>\n",
              "      <td>0</td>\n",
              "      <td>0.0</td>\n",
              "      <td>0</td>\n",
              "      <td>0</td>\n",
              "      <td>0</td>\n",
              "      <td>0</td>\n",
              "      <td>0</td>\n",
              "      <td>0</td>\n",
              "      <td>0</td>\n",
              "      <td>4</td>\n",
              "      <td>0</td>\n",
              "      <td>0</td>\n",
              "    </tr>\n",
              "    <tr>\n",
              "      <th>6</th>\n",
              "      <td>20201129090000</td>\n",
              "      <td>10000</td>\n",
              "      <td>05.15.2138</td>\n",
              "      <td>0.0</td>\n",
              "      <td>0</td>\n",
              "      <td>0.0</td>\n",
              "      <td>0</td>\n",
              "      <td>0</td>\n",
              "      <td>4</td>\n",
              "      <td>0</td>\n",
              "      <td>0</td>\n",
              "      <td>0</td>\n",
              "      <td>0</td>\n",
              "      <td>4</td>\n",
              "      <td>0</td>\n",
              "      <td>0</td>\n",
              "    </tr>\n",
              "    <tr>\n",
              "      <th>7</th>\n",
              "      <td>20201129090000</td>\n",
              "      <td>10000</td>\n",
              "      <td>05.15.2138</td>\n",
              "      <td>0.0</td>\n",
              "      <td>0</td>\n",
              "      <td>0.0</td>\n",
              "      <td>0</td>\n",
              "      <td>0</td>\n",
              "      <td>0</td>\n",
              "      <td>0</td>\n",
              "      <td>0</td>\n",
              "      <td>0</td>\n",
              "      <td>0</td>\n",
              "      <td>4</td>\n",
              "      <td>0</td>\n",
              "      <td>0</td>\n",
              "    </tr>\n",
              "    <tr>\n",
              "      <th>8</th>\n",
              "      <td>20201129090000</td>\n",
              "      <td>10000</td>\n",
              "      <td>05.15.2138</td>\n",
              "      <td>0.0</td>\n",
              "      <td>0</td>\n",
              "      <td>0.0</td>\n",
              "      <td>0</td>\n",
              "      <td>0</td>\n",
              "      <td>0</td>\n",
              "      <td>0</td>\n",
              "      <td>0</td>\n",
              "      <td>0</td>\n",
              "      <td>0</td>\n",
              "      <td>4</td>\n",
              "      <td>0</td>\n",
              "      <td>0</td>\n",
              "    </tr>\n",
              "    <tr>\n",
              "      <th>9</th>\n",
              "      <td>20201129090000</td>\n",
              "      <td>10000</td>\n",
              "      <td>05.15.2138</td>\n",
              "      <td>0.0</td>\n",
              "      <td>0</td>\n",
              "      <td>0.0</td>\n",
              "      <td>0</td>\n",
              "      <td>0</td>\n",
              "      <td>0</td>\n",
              "      <td>0</td>\n",
              "      <td>0</td>\n",
              "      <td>0</td>\n",
              "      <td>0</td>\n",
              "      <td>4</td>\n",
              "      <td>0</td>\n",
              "      <td>0</td>\n",
              "    </tr>\n",
              "  </tbody>\n",
              "</table>\n",
              "</div>"
            ]
          },
          "metadata": {},
          "execution_count": 17
        }
      ]
    },
    {
      "cell_type": "code",
      "source": [
        "train_quality.tail(10)"
      ],
      "metadata": {
        "colab": {
          "base_uri": "https://localhost:8080/",
          "height": 383
        },
        "id": "shw3bTh9wWB3",
        "outputId": "f0440ff0-584f-4ca3-f06b-d5ceebd36f57"
      },
      "execution_count": 18,
      "outputs": [
        {
          "output_type": "execute_result",
          "data": {
            "text/plain": [
              "                  time  user_id       fwver  quality_0  quality_1  quality_2  \\\n",
              "828614  20201124033000    24997  04.22.1778        0.0          0        0.0   \n",
              "828615  20201124033000    24997  04.22.1778        0.0          0        0.0   \n",
              "828616  20201124033000    24997  04.22.1778        0.0          0        0.0   \n",
              "828617  20201124033000    24997  04.22.1778        0.0          0        0.0   \n",
              "828618  20201124033000    24997  04.22.1778        0.0          0        0.0   \n",
              "828619  20201124033000    24997  04.22.1778        0.0          0        0.0   \n",
              "828620  20201124033000    24997  04.22.1778        0.0          0        0.0   \n",
              "828621  20201124033000    24997  04.22.1778        0.0          0        0.0   \n",
              "828622  20201124033000    24997  04.22.1778        0.0          0        0.0   \n",
              "828623  20201124033000    24997  04.22.1778        0.0          0        0.0   \n",
              "\n",
              "        quality_3  quality_4 quality_5  quality_6 quality_7 quality_8  \\\n",
              "828614          0          0         0          0         0         0   \n",
              "828615          0          0         2          0         0         0   \n",
              "828616          0          0         0          0         0         0   \n",
              "828617          0          0         0          0         0         0   \n",
              "828618          0          0         2          0         0         0   \n",
              "828619          0          0         1          0         0         0   \n",
              "828620          0          0         0          0         0         0   \n",
              "828621          0          0         3          0         0         0   \n",
              "828622          0          0         0          0         0         0   \n",
              "828623          0          0         9          0         0         0   \n",
              "\n",
              "       quality_9 quality_10  quality_11  quality_12  \n",
              "828614         0         17           0           0  \n",
              "828615         0         17           0           0  \n",
              "828616         0         17           0           0  \n",
              "828617         0         17           0           0  \n",
              "828618         0         17           0           0  \n",
              "828619         0         17           0           0  \n",
              "828620         0         17           0           0  \n",
              "828621         0         17           0           0  \n",
              "828622         0         17           0           0  \n",
              "828623         0         17           0           0  "
            ],
            "text/html": [
              "<div>\n",
              "<style scoped>\n",
              "    .dataframe tbody tr th:only-of-type {\n",
              "        vertical-align: middle;\n",
              "    }\n",
              "\n",
              "    .dataframe tbody tr th {\n",
              "        vertical-align: top;\n",
              "    }\n",
              "\n",
              "    .dataframe thead th {\n",
              "        text-align: right;\n",
              "    }\n",
              "</style>\n",
              "<table border=\"1\" class=\"dataframe\">\n",
              "  <thead>\n",
              "    <tr style=\"text-align: right;\">\n",
              "      <th></th>\n",
              "      <th>time</th>\n",
              "      <th>user_id</th>\n",
              "      <th>fwver</th>\n",
              "      <th>quality_0</th>\n",
              "      <th>quality_1</th>\n",
              "      <th>quality_2</th>\n",
              "      <th>quality_3</th>\n",
              "      <th>quality_4</th>\n",
              "      <th>quality_5</th>\n",
              "      <th>quality_6</th>\n",
              "      <th>quality_7</th>\n",
              "      <th>quality_8</th>\n",
              "      <th>quality_9</th>\n",
              "      <th>quality_10</th>\n",
              "      <th>quality_11</th>\n",
              "      <th>quality_12</th>\n",
              "    </tr>\n",
              "  </thead>\n",
              "  <tbody>\n",
              "    <tr>\n",
              "      <th>828614</th>\n",
              "      <td>20201124033000</td>\n",
              "      <td>24997</td>\n",
              "      <td>04.22.1778</td>\n",
              "      <td>0.0</td>\n",
              "      <td>0</td>\n",
              "      <td>0.0</td>\n",
              "      <td>0</td>\n",
              "      <td>0</td>\n",
              "      <td>0</td>\n",
              "      <td>0</td>\n",
              "      <td>0</td>\n",
              "      <td>0</td>\n",
              "      <td>0</td>\n",
              "      <td>17</td>\n",
              "      <td>0</td>\n",
              "      <td>0</td>\n",
              "    </tr>\n",
              "    <tr>\n",
              "      <th>828615</th>\n",
              "      <td>20201124033000</td>\n",
              "      <td>24997</td>\n",
              "      <td>04.22.1778</td>\n",
              "      <td>0.0</td>\n",
              "      <td>0</td>\n",
              "      <td>0.0</td>\n",
              "      <td>0</td>\n",
              "      <td>0</td>\n",
              "      <td>2</td>\n",
              "      <td>0</td>\n",
              "      <td>0</td>\n",
              "      <td>0</td>\n",
              "      <td>0</td>\n",
              "      <td>17</td>\n",
              "      <td>0</td>\n",
              "      <td>0</td>\n",
              "    </tr>\n",
              "    <tr>\n",
              "      <th>828616</th>\n",
              "      <td>20201124033000</td>\n",
              "      <td>24997</td>\n",
              "      <td>04.22.1778</td>\n",
              "      <td>0.0</td>\n",
              "      <td>0</td>\n",
              "      <td>0.0</td>\n",
              "      <td>0</td>\n",
              "      <td>0</td>\n",
              "      <td>0</td>\n",
              "      <td>0</td>\n",
              "      <td>0</td>\n",
              "      <td>0</td>\n",
              "      <td>0</td>\n",
              "      <td>17</td>\n",
              "      <td>0</td>\n",
              "      <td>0</td>\n",
              "    </tr>\n",
              "    <tr>\n",
              "      <th>828617</th>\n",
              "      <td>20201124033000</td>\n",
              "      <td>24997</td>\n",
              "      <td>04.22.1778</td>\n",
              "      <td>0.0</td>\n",
              "      <td>0</td>\n",
              "      <td>0.0</td>\n",
              "      <td>0</td>\n",
              "      <td>0</td>\n",
              "      <td>0</td>\n",
              "      <td>0</td>\n",
              "      <td>0</td>\n",
              "      <td>0</td>\n",
              "      <td>0</td>\n",
              "      <td>17</td>\n",
              "      <td>0</td>\n",
              "      <td>0</td>\n",
              "    </tr>\n",
              "    <tr>\n",
              "      <th>828618</th>\n",
              "      <td>20201124033000</td>\n",
              "      <td>24997</td>\n",
              "      <td>04.22.1778</td>\n",
              "      <td>0.0</td>\n",
              "      <td>0</td>\n",
              "      <td>0.0</td>\n",
              "      <td>0</td>\n",
              "      <td>0</td>\n",
              "      <td>2</td>\n",
              "      <td>0</td>\n",
              "      <td>0</td>\n",
              "      <td>0</td>\n",
              "      <td>0</td>\n",
              "      <td>17</td>\n",
              "      <td>0</td>\n",
              "      <td>0</td>\n",
              "    </tr>\n",
              "    <tr>\n",
              "      <th>828619</th>\n",
              "      <td>20201124033000</td>\n",
              "      <td>24997</td>\n",
              "      <td>04.22.1778</td>\n",
              "      <td>0.0</td>\n",
              "      <td>0</td>\n",
              "      <td>0.0</td>\n",
              "      <td>0</td>\n",
              "      <td>0</td>\n",
              "      <td>1</td>\n",
              "      <td>0</td>\n",
              "      <td>0</td>\n",
              "      <td>0</td>\n",
              "      <td>0</td>\n",
              "      <td>17</td>\n",
              "      <td>0</td>\n",
              "      <td>0</td>\n",
              "    </tr>\n",
              "    <tr>\n",
              "      <th>828620</th>\n",
              "      <td>20201124033000</td>\n",
              "      <td>24997</td>\n",
              "      <td>04.22.1778</td>\n",
              "      <td>0.0</td>\n",
              "      <td>0</td>\n",
              "      <td>0.0</td>\n",
              "      <td>0</td>\n",
              "      <td>0</td>\n",
              "      <td>0</td>\n",
              "      <td>0</td>\n",
              "      <td>0</td>\n",
              "      <td>0</td>\n",
              "      <td>0</td>\n",
              "      <td>17</td>\n",
              "      <td>0</td>\n",
              "      <td>0</td>\n",
              "    </tr>\n",
              "    <tr>\n",
              "      <th>828621</th>\n",
              "      <td>20201124033000</td>\n",
              "      <td>24997</td>\n",
              "      <td>04.22.1778</td>\n",
              "      <td>0.0</td>\n",
              "      <td>0</td>\n",
              "      <td>0.0</td>\n",
              "      <td>0</td>\n",
              "      <td>0</td>\n",
              "      <td>3</td>\n",
              "      <td>0</td>\n",
              "      <td>0</td>\n",
              "      <td>0</td>\n",
              "      <td>0</td>\n",
              "      <td>17</td>\n",
              "      <td>0</td>\n",
              "      <td>0</td>\n",
              "    </tr>\n",
              "    <tr>\n",
              "      <th>828622</th>\n",
              "      <td>20201124033000</td>\n",
              "      <td>24997</td>\n",
              "      <td>04.22.1778</td>\n",
              "      <td>0.0</td>\n",
              "      <td>0</td>\n",
              "      <td>0.0</td>\n",
              "      <td>0</td>\n",
              "      <td>0</td>\n",
              "      <td>0</td>\n",
              "      <td>0</td>\n",
              "      <td>0</td>\n",
              "      <td>0</td>\n",
              "      <td>0</td>\n",
              "      <td>17</td>\n",
              "      <td>0</td>\n",
              "      <td>0</td>\n",
              "    </tr>\n",
              "    <tr>\n",
              "      <th>828623</th>\n",
              "      <td>20201124033000</td>\n",
              "      <td>24997</td>\n",
              "      <td>04.22.1778</td>\n",
              "      <td>0.0</td>\n",
              "      <td>0</td>\n",
              "      <td>0.0</td>\n",
              "      <td>0</td>\n",
              "      <td>0</td>\n",
              "      <td>9</td>\n",
              "      <td>0</td>\n",
              "      <td>0</td>\n",
              "      <td>0</td>\n",
              "      <td>0</td>\n",
              "      <td>17</td>\n",
              "      <td>0</td>\n",
              "      <td>0</td>\n",
              "    </tr>\n",
              "  </tbody>\n",
              "</table>\n",
              "</div>"
            ]
          },
          "metadata": {},
          "execution_count": 18
        }
      ]
    },
    {
      "cell_type": "markdown",
      "source": [
        "### quaulity data는 과거로부터의 2020년11월24일 03시30분부터  2020년 11월29일 09시00분 까지의 데이터가 내림차순으로 정렬되어 있는것 같습니다."
      ],
      "metadata": {
        "id": "qs9vRj4exWWT"
      }
    },
    {
      "cell_type": "code",
      "source": [
        "train_quality[\"fwver\"].nunique()"
      ],
      "metadata": {
        "colab": {
          "base_uri": "https://localhost:8080/"
        },
        "id": "WEGD4PmWz_OI",
        "outputId": "1a6e70ab-f800-4805-e832-0f3dc8a2c17f"
      },
      "execution_count": 19,
      "outputs": [
        {
          "output_type": "execute_result",
          "data": {
            "text/plain": [
              "27"
            ]
          },
          "metadata": {},
          "execution_count": 19
        }
      ]
    },
    {
      "cell_type": "code",
      "source": [
        "train_quality[\"user_id\"].nunique()"
      ],
      "metadata": {
        "colab": {
          "base_uri": "https://localhost:8080/"
        },
        "id": "cMBBgxTGweWI",
        "outputId": "9a809364-b716-4920-9d82-1ac777e2580c"
      },
      "execution_count": 20,
      "outputs": [
        {
          "output_type": "execute_result",
          "data": {
            "text/plain": [
              "8281"
            ]
          },
          "metadata": {},
          "execution_count": 20
        }
      ]
    },
    {
      "cell_type": "markdown",
      "source": [
        "### 펌웨어는 27번 업데이트 되었으며 집계된 고객은 8281명입니다."
      ],
      "metadata": {
        "id": "KZre6DkgyDBc"
      }
    },
    {
      "cell_type": "code",
      "source": [
        "# 결측치 확인\n",
        "train_quality.isnull().sum()"
      ],
      "metadata": {
        "colab": {
          "base_uri": "https://localhost:8080/"
        },
        "id": "VcoHGhWopYYp",
        "outputId": "2177af6d-5a64-4dc1-bd54-4ec69c17d131"
      },
      "execution_count": 21,
      "outputs": [
        {
          "output_type": "execute_result",
          "data": {
            "text/plain": [
              "time               0\n",
              "user_id            0\n",
              "fwver          40080\n",
              "quality_0     144432\n",
              "quality_1          0\n",
              "quality_2      40113\n",
              "quality_3          0\n",
              "quality_4          0\n",
              "quality_5         20\n",
              "quality_6          0\n",
              "quality_7          0\n",
              "quality_8          0\n",
              "quality_9          0\n",
              "quality_10         0\n",
              "quality_11         0\n",
              "quality_12         0\n",
              "dtype: int64"
            ]
          },
          "metadata": {},
          "execution_count": 21
        }
      ]
    },
    {
      "cell_type": "markdown",
      "source": [
        "## problem data 확인해보기"
      ],
      "metadata": {
        "id": "Yj_RyVgwyeIi"
      }
    },
    {
      "cell_type": "code",
      "source": [
        "train_problem.info()"
      ],
      "metadata": {
        "colab": {
          "base_uri": "https://localhost:8080/"
        },
        "id": "2JuYE_gbo6X0",
        "outputId": "9537dde5-3d2e-4651-8be4-03683dc9f943"
      },
      "execution_count": 22,
      "outputs": [
        {
          "output_type": "stream",
          "name": "stdout",
          "text": [
            "<class 'pandas.core.frame.DataFrame'>\n",
            "RangeIndex: 5429 entries, 0 to 5428\n",
            "Data columns (total 2 columns):\n",
            " #   Column   Non-Null Count  Dtype\n",
            "---  ------   --------------  -----\n",
            " 0   user_id  5429 non-null   int64\n",
            " 1   time     5429 non-null   int64\n",
            "dtypes: int64(2)\n",
            "memory usage: 85.0 KB\n"
          ]
        }
      ]
    },
    {
      "cell_type": "code",
      "source": [
        "train_problem.head(10)"
      ],
      "metadata": {
        "colab": {
          "base_uri": "https://localhost:8080/",
          "height": 363
        },
        "id": "gdJjapO6o6Ve",
        "outputId": "aeeffb14-788c-4d1b-dd0b-c7e2500ef877"
      },
      "execution_count": 23,
      "outputs": [
        {
          "output_type": "execute_result",
          "data": {
            "text/plain": [
              "   user_id            time\n",
              "0    19224  20201102200000\n",
              "1    23664  20201116140000\n",
              "2    15166  20201114130000\n",
              "3    12590  20201108210000\n",
              "4    15932  20201103210000\n",
              "5    16852  20201119150000\n",
              "6    23427  20201121110000\n",
              "7    13507  20201111160000\n",
              "8    11274  20201118120000\n",
              "9    20610  20201127230000"
            ],
            "text/html": [
              "<div>\n",
              "<style scoped>\n",
              "    .dataframe tbody tr th:only-of-type {\n",
              "        vertical-align: middle;\n",
              "    }\n",
              "\n",
              "    .dataframe tbody tr th {\n",
              "        vertical-align: top;\n",
              "    }\n",
              "\n",
              "    .dataframe thead th {\n",
              "        text-align: right;\n",
              "    }\n",
              "</style>\n",
              "<table border=\"1\" class=\"dataframe\">\n",
              "  <thead>\n",
              "    <tr style=\"text-align: right;\">\n",
              "      <th></th>\n",
              "      <th>user_id</th>\n",
              "      <th>time</th>\n",
              "    </tr>\n",
              "  </thead>\n",
              "  <tbody>\n",
              "    <tr>\n",
              "      <th>0</th>\n",
              "      <td>19224</td>\n",
              "      <td>20201102200000</td>\n",
              "    </tr>\n",
              "    <tr>\n",
              "      <th>1</th>\n",
              "      <td>23664</td>\n",
              "      <td>20201116140000</td>\n",
              "    </tr>\n",
              "    <tr>\n",
              "      <th>2</th>\n",
              "      <td>15166</td>\n",
              "      <td>20201114130000</td>\n",
              "    </tr>\n",
              "    <tr>\n",
              "      <th>3</th>\n",
              "      <td>12590</td>\n",
              "      <td>20201108210000</td>\n",
              "    </tr>\n",
              "    <tr>\n",
              "      <th>4</th>\n",
              "      <td>15932</td>\n",
              "      <td>20201103210000</td>\n",
              "    </tr>\n",
              "    <tr>\n",
              "      <th>5</th>\n",
              "      <td>16852</td>\n",
              "      <td>20201119150000</td>\n",
              "    </tr>\n",
              "    <tr>\n",
              "      <th>6</th>\n",
              "      <td>23427</td>\n",
              "      <td>20201121110000</td>\n",
              "    </tr>\n",
              "    <tr>\n",
              "      <th>7</th>\n",
              "      <td>13507</td>\n",
              "      <td>20201111160000</td>\n",
              "    </tr>\n",
              "    <tr>\n",
              "      <th>8</th>\n",
              "      <td>11274</td>\n",
              "      <td>20201118120000</td>\n",
              "    </tr>\n",
              "    <tr>\n",
              "      <th>9</th>\n",
              "      <td>20610</td>\n",
              "      <td>20201127230000</td>\n",
              "    </tr>\n",
              "  </tbody>\n",
              "</table>\n",
              "</div>"
            ]
          },
          "metadata": {},
          "execution_count": 23
        }
      ]
    },
    {
      "cell_type": "code",
      "source": [
        "train_problem.tail(10)"
      ],
      "metadata": {
        "colab": {
          "base_uri": "https://localhost:8080/",
          "height": 363
        },
        "id": "QsTAmhCFyl0w",
        "outputId": "7a40f6c1-9a49-4e26-b79a-f5d625589df2"
      },
      "execution_count": 24,
      "outputs": [
        {
          "output_type": "execute_result",
          "data": {
            "text/plain": [
              "      user_id            time\n",
              "5419    13579  20201124150000\n",
              "5420    14980  20201121110000\n",
              "5421    18383  20201114110000\n",
              "5422    21420  20201110160000\n",
              "5423    24150  20201130120000\n",
              "5424    20167  20201125120000\n",
              "5425    16270  20201110120000\n",
              "5426    19114  20201106230000\n",
              "5427    21505  20201104110000\n",
              "5428    18822  20201102120000"
            ],
            "text/html": [
              "<div>\n",
              "<style scoped>\n",
              "    .dataframe tbody tr th:only-of-type {\n",
              "        vertical-align: middle;\n",
              "    }\n",
              "\n",
              "    .dataframe tbody tr th {\n",
              "        vertical-align: top;\n",
              "    }\n",
              "\n",
              "    .dataframe thead th {\n",
              "        text-align: right;\n",
              "    }\n",
              "</style>\n",
              "<table border=\"1\" class=\"dataframe\">\n",
              "  <thead>\n",
              "    <tr style=\"text-align: right;\">\n",
              "      <th></th>\n",
              "      <th>user_id</th>\n",
              "      <th>time</th>\n",
              "    </tr>\n",
              "  </thead>\n",
              "  <tbody>\n",
              "    <tr>\n",
              "      <th>5419</th>\n",
              "      <td>13579</td>\n",
              "      <td>20201124150000</td>\n",
              "    </tr>\n",
              "    <tr>\n",
              "      <th>5420</th>\n",
              "      <td>14980</td>\n",
              "      <td>20201121110000</td>\n",
              "    </tr>\n",
              "    <tr>\n",
              "      <th>5421</th>\n",
              "      <td>18383</td>\n",
              "      <td>20201114110000</td>\n",
              "    </tr>\n",
              "    <tr>\n",
              "      <th>5422</th>\n",
              "      <td>21420</td>\n",
              "      <td>20201110160000</td>\n",
              "    </tr>\n",
              "    <tr>\n",
              "      <th>5423</th>\n",
              "      <td>24150</td>\n",
              "      <td>20201130120000</td>\n",
              "    </tr>\n",
              "    <tr>\n",
              "      <th>5424</th>\n",
              "      <td>20167</td>\n",
              "      <td>20201125120000</td>\n",
              "    </tr>\n",
              "    <tr>\n",
              "      <th>5425</th>\n",
              "      <td>16270</td>\n",
              "      <td>20201110120000</td>\n",
              "    </tr>\n",
              "    <tr>\n",
              "      <th>5426</th>\n",
              "      <td>19114</td>\n",
              "      <td>20201106230000</td>\n",
              "    </tr>\n",
              "    <tr>\n",
              "      <th>5427</th>\n",
              "      <td>21505</td>\n",
              "      <td>20201104110000</td>\n",
              "    </tr>\n",
              "    <tr>\n",
              "      <th>5428</th>\n",
              "      <td>18822</td>\n",
              "      <td>20201102120000</td>\n",
              "    </tr>\n",
              "  </tbody>\n",
              "</table>\n",
              "</div>"
            ]
          },
          "metadata": {},
          "execution_count": 24
        }
      ]
    },
    {
      "cell_type": "code",
      "source": [
        "train_problem[\"user_id\"].nunique()"
      ],
      "metadata": {
        "colab": {
          "base_uri": "https://localhost:8080/"
        },
        "id": "r5KgxPRZy6bg",
        "outputId": "424605f4-ffc3-49e4-ff2f-3e573a8d1bc9"
      },
      "execution_count": 25,
      "outputs": [
        {
          "output_type": "execute_result",
          "data": {
            "text/plain": [
              "5000"
            ]
          },
          "metadata": {},
          "execution_count": 25
        }
      ]
    },
    {
      "cell_type": "code",
      "source": [
        "train_problem[\"time\"].nunique()"
      ],
      "metadata": {
        "colab": {
          "base_uri": "https://localhost:8080/"
        },
        "id": "qWxMl7KezI5U",
        "outputId": "2f605718-7b6c-4aa6-e23c-b473bc346d69"
      },
      "execution_count": 26,
      "outputs": [
        {
          "output_type": "execute_result",
          "data": {
            "text/plain": [
              "488"
            ]
          },
          "metadata": {},
          "execution_count": 26
        }
      ]
    },
    {
      "cell_type": "code",
      "source": [
        "train_problem[\"time\"].max()"
      ],
      "metadata": {
        "colab": {
          "base_uri": "https://localhost:8080/"
        },
        "id": "CV1o3SSszNy3",
        "outputId": "dd5a4c4c-b246-4d7e-d473-f6d0a9ec70bc"
      },
      "execution_count": 27,
      "outputs": [
        {
          "output_type": "execute_result",
          "data": {
            "text/plain": [
              "20201130230000"
            ]
          },
          "metadata": {},
          "execution_count": 27
        }
      ]
    },
    {
      "cell_type": "code",
      "source": [
        "train_problem[\"time\"].min()"
      ],
      "metadata": {
        "colab": {
          "base_uri": "https://localhost:8080/"
        },
        "id": "kgGk5vG5zRRw",
        "outputId": "c396b045-3913-4788-e5bb-b763639599e4"
      },
      "execution_count": 28,
      "outputs": [
        {
          "output_type": "execute_result",
          "data": {
            "text/plain": [
              "20201101000000"
            ]
          },
          "metadata": {},
          "execution_count": 28
        }
      ]
    },
    {
      "cell_type": "markdown",
      "source": [
        "### 불만접수를 한 고객은 5000명이며, problem data는 2020년 11월01일부터 2020년 11월30일 23시까지의 데이터입니다."
      ],
      "metadata": {
        "id": "ZNNPwJWszU30"
      }
    },
    {
      "cell_type": "code",
      "source": [
        "# 결측치 확인\n",
        "train_problem.isnull().sum()"
      ],
      "metadata": {
        "colab": {
          "base_uri": "https://localhost:8080/"
        },
        "id": "nKzZgc4ope1Z",
        "outputId": "12817ce5-5d23-4179-c804-9dd39e826f1d"
      },
      "execution_count": 29,
      "outputs": [
        {
          "output_type": "execute_result",
          "data": {
            "text/plain": [
              "user_id    0\n",
              "time       0\n",
              "dtype: int64"
            ]
          },
          "metadata": {},
          "execution_count": 29
        }
      ]
    },
    {
      "cell_type": "code",
      "source": [
        "train_problem.describe()"
      ],
      "metadata": {
        "colab": {
          "base_uri": "https://localhost:8080/",
          "height": 300
        },
        "id": "kJSdsGk8zUrx",
        "outputId": "7889333f-fb33-4427-d060-0d188b2860b9"
      },
      "execution_count": 30,
      "outputs": [
        {
          "output_type": "execute_result",
          "data": {
            "text/plain": [
              "            user_id          time\n",
              "count   5429.000000  5.429000e+03\n",
              "mean   17567.540615  2.020112e+13\n",
              "std     4330.245143  8.611525e+06\n",
              "min    10001.000000  2.020110e+13\n",
              "25%    13778.000000  2.020111e+13\n",
              "50%    17616.000000  2.020112e+13\n",
              "75%    21346.000000  2.020112e+13\n",
              "max    24998.000000  2.020113e+13"
            ],
            "text/html": [
              "<div>\n",
              "<style scoped>\n",
              "    .dataframe tbody tr th:only-of-type {\n",
              "        vertical-align: middle;\n",
              "    }\n",
              "\n",
              "    .dataframe tbody tr th {\n",
              "        vertical-align: top;\n",
              "    }\n",
              "\n",
              "    .dataframe thead th {\n",
              "        text-align: right;\n",
              "    }\n",
              "</style>\n",
              "<table border=\"1\" class=\"dataframe\">\n",
              "  <thead>\n",
              "    <tr style=\"text-align: right;\">\n",
              "      <th></th>\n",
              "      <th>user_id</th>\n",
              "      <th>time</th>\n",
              "    </tr>\n",
              "  </thead>\n",
              "  <tbody>\n",
              "    <tr>\n",
              "      <th>count</th>\n",
              "      <td>5429.000000</td>\n",
              "      <td>5.429000e+03</td>\n",
              "    </tr>\n",
              "    <tr>\n",
              "      <th>mean</th>\n",
              "      <td>17567.540615</td>\n",
              "      <td>2.020112e+13</td>\n",
              "    </tr>\n",
              "    <tr>\n",
              "      <th>std</th>\n",
              "      <td>4330.245143</td>\n",
              "      <td>8.611525e+06</td>\n",
              "    </tr>\n",
              "    <tr>\n",
              "      <th>min</th>\n",
              "      <td>10001.000000</td>\n",
              "      <td>2.020110e+13</td>\n",
              "    </tr>\n",
              "    <tr>\n",
              "      <th>25%</th>\n",
              "      <td>13778.000000</td>\n",
              "      <td>2.020111e+13</td>\n",
              "    </tr>\n",
              "    <tr>\n",
              "      <th>50%</th>\n",
              "      <td>17616.000000</td>\n",
              "      <td>2.020112e+13</td>\n",
              "    </tr>\n",
              "    <tr>\n",
              "      <th>75%</th>\n",
              "      <td>21346.000000</td>\n",
              "      <td>2.020112e+13</td>\n",
              "    </tr>\n",
              "    <tr>\n",
              "      <th>max</th>\n",
              "      <td>24998.000000</td>\n",
              "      <td>2.020113e+13</td>\n",
              "    </tr>\n",
              "  </tbody>\n",
              "</table>\n",
              "</div>"
            ]
          },
          "metadata": {},
          "execution_count": 30
        }
      ]
    },
    {
      "cell_type": "markdown",
      "source": [
        "## error data 확인해보기"
      ],
      "metadata": {
        "id": "eW01kbl0z5V1"
      }
    },
    {
      "cell_type": "code",
      "source": [
        "train_error.info()"
      ],
      "metadata": {
        "colab": {
          "base_uri": "https://localhost:8080/"
        },
        "id": "j7yRtmsPo6S4",
        "outputId": "a333778e-eddc-4c80-9e4b-f640d125c8cc"
      },
      "execution_count": 31,
      "outputs": [
        {
          "output_type": "stream",
          "name": "stdout",
          "text": [
            "<class 'pandas.core.frame.DataFrame'>\n",
            "RangeIndex: 16554663 entries, 0 to 16554662\n",
            "Data columns (total 6 columns):\n",
            " #   Column    Dtype \n",
            "---  ------    ----- \n",
            " 0   user_id   int64 \n",
            " 1   time      int64 \n",
            " 2   model_nm  object\n",
            " 3   fwver     object\n",
            " 4   errtype   int64 \n",
            " 5   errcode   object\n",
            "dtypes: int64(3), object(3)\n",
            "memory usage: 757.8+ MB\n"
          ]
        }
      ]
    },
    {
      "cell_type": "code",
      "source": [
        "train_error.head(10)"
      ],
      "metadata": {
        "colab": {
          "base_uri": "https://localhost:8080/",
          "height": 363
        },
        "id": "vHHhb_q0o6Hs",
        "outputId": "e3aeec6c-4575-4e56-d4a5-b674e4a59518"
      },
      "execution_count": 32,
      "outputs": [
        {
          "output_type": "execute_result",
          "data": {
            "text/plain": [
              "   user_id            time model_nm       fwver  errtype errcode\n",
              "0    10000  20201101025616  model_3  05.15.2138       15       1\n",
              "1    10000  20201101030309  model_3  05.15.2138       12       1\n",
              "2    10000  20201101030309  model_3  05.15.2138       11       1\n",
              "3    10000  20201101050514  model_3  05.15.2138       16       1\n",
              "4    10000  20201101050515  model_3  05.15.2138        4       0\n",
              "5    10000  20201101050516  model_3  05.15.2138       26       1\n",
              "6    10000  20201101050522  model_3  05.15.2138        4       0\n",
              "7    10000  20201101060903  model_3  05.15.2138       15       1\n",
              "8    10000  20201101174754  model_3  05.15.2138       16       1\n",
              "9    10000  20201101174756  model_3  05.15.2138        4       0"
            ],
            "text/html": [
              "<div>\n",
              "<style scoped>\n",
              "    .dataframe tbody tr th:only-of-type {\n",
              "        vertical-align: middle;\n",
              "    }\n",
              "\n",
              "    .dataframe tbody tr th {\n",
              "        vertical-align: top;\n",
              "    }\n",
              "\n",
              "    .dataframe thead th {\n",
              "        text-align: right;\n",
              "    }\n",
              "</style>\n",
              "<table border=\"1\" class=\"dataframe\">\n",
              "  <thead>\n",
              "    <tr style=\"text-align: right;\">\n",
              "      <th></th>\n",
              "      <th>user_id</th>\n",
              "      <th>time</th>\n",
              "      <th>model_nm</th>\n",
              "      <th>fwver</th>\n",
              "      <th>errtype</th>\n",
              "      <th>errcode</th>\n",
              "    </tr>\n",
              "  </thead>\n",
              "  <tbody>\n",
              "    <tr>\n",
              "      <th>0</th>\n",
              "      <td>10000</td>\n",
              "      <td>20201101025616</td>\n",
              "      <td>model_3</td>\n",
              "      <td>05.15.2138</td>\n",
              "      <td>15</td>\n",
              "      <td>1</td>\n",
              "    </tr>\n",
              "    <tr>\n",
              "      <th>1</th>\n",
              "      <td>10000</td>\n",
              "      <td>20201101030309</td>\n",
              "      <td>model_3</td>\n",
              "      <td>05.15.2138</td>\n",
              "      <td>12</td>\n",
              "      <td>1</td>\n",
              "    </tr>\n",
              "    <tr>\n",
              "      <th>2</th>\n",
              "      <td>10000</td>\n",
              "      <td>20201101030309</td>\n",
              "      <td>model_3</td>\n",
              "      <td>05.15.2138</td>\n",
              "      <td>11</td>\n",
              "      <td>1</td>\n",
              "    </tr>\n",
              "    <tr>\n",
              "      <th>3</th>\n",
              "      <td>10000</td>\n",
              "      <td>20201101050514</td>\n",
              "      <td>model_3</td>\n",
              "      <td>05.15.2138</td>\n",
              "      <td>16</td>\n",
              "      <td>1</td>\n",
              "    </tr>\n",
              "    <tr>\n",
              "      <th>4</th>\n",
              "      <td>10000</td>\n",
              "      <td>20201101050515</td>\n",
              "      <td>model_3</td>\n",
              "      <td>05.15.2138</td>\n",
              "      <td>4</td>\n",
              "      <td>0</td>\n",
              "    </tr>\n",
              "    <tr>\n",
              "      <th>5</th>\n",
              "      <td>10000</td>\n",
              "      <td>20201101050516</td>\n",
              "      <td>model_3</td>\n",
              "      <td>05.15.2138</td>\n",
              "      <td>26</td>\n",
              "      <td>1</td>\n",
              "    </tr>\n",
              "    <tr>\n",
              "      <th>6</th>\n",
              "      <td>10000</td>\n",
              "      <td>20201101050522</td>\n",
              "      <td>model_3</td>\n",
              "      <td>05.15.2138</td>\n",
              "      <td>4</td>\n",
              "      <td>0</td>\n",
              "    </tr>\n",
              "    <tr>\n",
              "      <th>7</th>\n",
              "      <td>10000</td>\n",
              "      <td>20201101060903</td>\n",
              "      <td>model_3</td>\n",
              "      <td>05.15.2138</td>\n",
              "      <td>15</td>\n",
              "      <td>1</td>\n",
              "    </tr>\n",
              "    <tr>\n",
              "      <th>8</th>\n",
              "      <td>10000</td>\n",
              "      <td>20201101174754</td>\n",
              "      <td>model_3</td>\n",
              "      <td>05.15.2138</td>\n",
              "      <td>16</td>\n",
              "      <td>1</td>\n",
              "    </tr>\n",
              "    <tr>\n",
              "      <th>9</th>\n",
              "      <td>10000</td>\n",
              "      <td>20201101174756</td>\n",
              "      <td>model_3</td>\n",
              "      <td>05.15.2138</td>\n",
              "      <td>4</td>\n",
              "      <td>0</td>\n",
              "    </tr>\n",
              "  </tbody>\n",
              "</table>\n",
              "</div>"
            ]
          },
          "metadata": {},
          "execution_count": 32
        }
      ]
    },
    {
      "cell_type": "code",
      "source": [
        "train_error.tail(10)"
      ],
      "metadata": {
        "colab": {
          "base_uri": "https://localhost:8080/",
          "height": 363
        },
        "id": "LH4tfw5g0H5R",
        "outputId": "4433ba4b-3da1-4ce0-9f1b-6b8e303efda6"
      },
      "execution_count": 33,
      "outputs": [
        {
          "output_type": "execute_result",
          "data": {
            "text/plain": [
              "          user_id            time model_nm       fwver  errtype errcode\n",
              "16554653    24999  20201130074711  model_3  05.15.2138        4       0\n",
              "16554654    24999  20201130142105  model_3  05.15.2138       15       1\n",
              "16554655    24999  20201130161510  model_3  05.15.2138       16       1\n",
              "16554656    24999  20201130161511  model_3  05.15.2138        4       0\n",
              "16554657    24999  20201130161517  model_3  05.15.2138        4       0\n",
              "16554658    24999  20201130163051  model_3  05.15.2138       15       1\n",
              "16554659    24999  20201130172625  model_3  05.15.2138       16       1\n",
              "16554660    24999  20201130172625  model_3  05.15.2138        4       0\n",
              "16554661    24999  20201130172631  model_3  05.15.2138        4       0\n",
              "16554662    24999  20201130210625  model_3  05.15.2138       15       1"
            ],
            "text/html": [
              "<div>\n",
              "<style scoped>\n",
              "    .dataframe tbody tr th:only-of-type {\n",
              "        vertical-align: middle;\n",
              "    }\n",
              "\n",
              "    .dataframe tbody tr th {\n",
              "        vertical-align: top;\n",
              "    }\n",
              "\n",
              "    .dataframe thead th {\n",
              "        text-align: right;\n",
              "    }\n",
              "</style>\n",
              "<table border=\"1\" class=\"dataframe\">\n",
              "  <thead>\n",
              "    <tr style=\"text-align: right;\">\n",
              "      <th></th>\n",
              "      <th>user_id</th>\n",
              "      <th>time</th>\n",
              "      <th>model_nm</th>\n",
              "      <th>fwver</th>\n",
              "      <th>errtype</th>\n",
              "      <th>errcode</th>\n",
              "    </tr>\n",
              "  </thead>\n",
              "  <tbody>\n",
              "    <tr>\n",
              "      <th>16554653</th>\n",
              "      <td>24999</td>\n",
              "      <td>20201130074711</td>\n",
              "      <td>model_3</td>\n",
              "      <td>05.15.2138</td>\n",
              "      <td>4</td>\n",
              "      <td>0</td>\n",
              "    </tr>\n",
              "    <tr>\n",
              "      <th>16554654</th>\n",
              "      <td>24999</td>\n",
              "      <td>20201130142105</td>\n",
              "      <td>model_3</td>\n",
              "      <td>05.15.2138</td>\n",
              "      <td>15</td>\n",
              "      <td>1</td>\n",
              "    </tr>\n",
              "    <tr>\n",
              "      <th>16554655</th>\n",
              "      <td>24999</td>\n",
              "      <td>20201130161510</td>\n",
              "      <td>model_3</td>\n",
              "      <td>05.15.2138</td>\n",
              "      <td>16</td>\n",
              "      <td>1</td>\n",
              "    </tr>\n",
              "    <tr>\n",
              "      <th>16554656</th>\n",
              "      <td>24999</td>\n",
              "      <td>20201130161511</td>\n",
              "      <td>model_3</td>\n",
              "      <td>05.15.2138</td>\n",
              "      <td>4</td>\n",
              "      <td>0</td>\n",
              "    </tr>\n",
              "    <tr>\n",
              "      <th>16554657</th>\n",
              "      <td>24999</td>\n",
              "      <td>20201130161517</td>\n",
              "      <td>model_3</td>\n",
              "      <td>05.15.2138</td>\n",
              "      <td>4</td>\n",
              "      <td>0</td>\n",
              "    </tr>\n",
              "    <tr>\n",
              "      <th>16554658</th>\n",
              "      <td>24999</td>\n",
              "      <td>20201130163051</td>\n",
              "      <td>model_3</td>\n",
              "      <td>05.15.2138</td>\n",
              "      <td>15</td>\n",
              "      <td>1</td>\n",
              "    </tr>\n",
              "    <tr>\n",
              "      <th>16554659</th>\n",
              "      <td>24999</td>\n",
              "      <td>20201130172625</td>\n",
              "      <td>model_3</td>\n",
              "      <td>05.15.2138</td>\n",
              "      <td>16</td>\n",
              "      <td>1</td>\n",
              "    </tr>\n",
              "    <tr>\n",
              "      <th>16554660</th>\n",
              "      <td>24999</td>\n",
              "      <td>20201130172625</td>\n",
              "      <td>model_3</td>\n",
              "      <td>05.15.2138</td>\n",
              "      <td>4</td>\n",
              "      <td>0</td>\n",
              "    </tr>\n",
              "    <tr>\n",
              "      <th>16554661</th>\n",
              "      <td>24999</td>\n",
              "      <td>20201130172631</td>\n",
              "      <td>model_3</td>\n",
              "      <td>05.15.2138</td>\n",
              "      <td>4</td>\n",
              "      <td>0</td>\n",
              "    </tr>\n",
              "    <tr>\n",
              "      <th>16554662</th>\n",
              "      <td>24999</td>\n",
              "      <td>20201130210625</td>\n",
              "      <td>model_3</td>\n",
              "      <td>05.15.2138</td>\n",
              "      <td>15</td>\n",
              "      <td>1</td>\n",
              "    </tr>\n",
              "  </tbody>\n",
              "</table>\n",
              "</div>"
            ]
          },
          "metadata": {},
          "execution_count": 33
        }
      ]
    },
    {
      "cell_type": "code",
      "source": [
        "train_error[\"user_id\"].nunique()"
      ],
      "metadata": {
        "colab": {
          "base_uri": "https://localhost:8080/"
        },
        "id": "ohYeviQ50-P2",
        "outputId": "ed6c4ee4-e826-47d1-f4d6-00767cbf8679"
      },
      "execution_count": 34,
      "outputs": [
        {
          "output_type": "execute_result",
          "data": {
            "text/plain": [
              "15000"
            ]
          },
          "metadata": {},
          "execution_count": 34
        }
      ]
    },
    {
      "cell_type": "code",
      "source": [
        "train_error[\"time\"].max()"
      ],
      "metadata": {
        "colab": {
          "base_uri": "https://localhost:8080/"
        },
        "id": "ebYSkGgx0-NP",
        "outputId": "6788fef3-dd5b-4af4-b3f9-b09dd7ca1a17"
      },
      "execution_count": 35,
      "outputs": [
        {
          "output_type": "execute_result",
          "data": {
            "text/plain": [
              "20201202185152"
            ]
          },
          "metadata": {},
          "execution_count": 35
        }
      ]
    },
    {
      "cell_type": "code",
      "source": [
        "train_error[\"time\"].min()"
      ],
      "metadata": {
        "colab": {
          "base_uri": "https://localhost:8080/"
        },
        "id": "M4VsnJYk0-Kq",
        "outputId": "140c8bc8-8776-443a-e7dc-4d4ae6124560"
      },
      "execution_count": 36,
      "outputs": [
        {
          "output_type": "execute_result",
          "data": {
            "text/plain": [
              "20201031235959"
            ]
          },
          "metadata": {},
          "execution_count": 36
        }
      ]
    },
    {
      "cell_type": "code",
      "source": [
        "train_error[\"model_nm\"].nunique()"
      ],
      "metadata": {
        "colab": {
          "base_uri": "https://localhost:8080/"
        },
        "id": "Hf6USQ3T1Lkf",
        "outputId": "ff34e7e3-099b-4e90-e56f-4503cc069c1b"
      },
      "execution_count": 37,
      "outputs": [
        {
          "output_type": "execute_result",
          "data": {
            "text/plain": [
              "9"
            ]
          },
          "metadata": {},
          "execution_count": 37
        }
      ]
    },
    {
      "cell_type": "code",
      "source": [
        "train_error[\"fwver\"].nunique()"
      ],
      "metadata": {
        "colab": {
          "base_uri": "https://localhost:8080/"
        },
        "id": "7AIiK0be1LZS",
        "outputId": "90bf29dc-66e6-4dc8-ea5b-eb70a83f89b1"
      },
      "execution_count": 38,
      "outputs": [
        {
          "output_type": "execute_result",
          "data": {
            "text/plain": [
              "37"
            ]
          },
          "metadata": {},
          "execution_count": 38
        }
      ]
    },
    {
      "cell_type": "code",
      "source": [
        "train_error[\"errtype\"].nunique()"
      ],
      "metadata": {
        "colab": {
          "base_uri": "https://localhost:8080/"
        },
        "id": "5NluK8lQ1TGf",
        "outputId": "1c67401c-b5fa-4f87-cfba-816d71356d77"
      },
      "execution_count": 39,
      "outputs": [
        {
          "output_type": "execute_result",
          "data": {
            "text/plain": [
              "41"
            ]
          },
          "metadata": {},
          "execution_count": 39
        }
      ]
    },
    {
      "cell_type": "code",
      "source": [
        "train_error[\"errcode\"].nunique()"
      ],
      "metadata": {
        "colab": {
          "base_uri": "https://localhost:8080/"
        },
        "id": "vDKw0UH_1TlP",
        "outputId": "340fd6ee-032f-4c33-de95-3da886754faa"
      },
      "execution_count": 40,
      "outputs": [
        {
          "output_type": "execute_result",
          "data": {
            "text/plain": [
              "2805"
            ]
          },
          "metadata": {},
          "execution_count": 40
        }
      ]
    },
    {
      "cell_type": "markdown",
      "source": [
        "### error 발생을 경험한 고객은 15000명이며 error data는 2020년 10월31일 23시59분59초 부터 2020년 12월02일 18시51분52초 까지의 데이터입니다.  \n",
        "### error가 발생한 model은 9개이고, 펌웨어는 37번 업데이트 되었으며, 발생한 error의 type은 41가지, errcode는 2805가지입니다."
      ],
      "metadata": {
        "id": "XgHqR8vU1lJL"
      }
    },
    {
      "cell_type": "code",
      "source": [
        "# 결측치 확인\n",
        "train_error.isnull().sum()"
      ],
      "metadata": {
        "colab": {
          "base_uri": "https://localhost:8080/"
        },
        "id": "nEFtK40NpCTQ",
        "outputId": "481077f9-75ee-4bb0-da27-858d33e408a7"
      },
      "execution_count": 41,
      "outputs": [
        {
          "output_type": "execute_result",
          "data": {
            "text/plain": [
              "user_id     0\n",
              "time        0\n",
              "model_nm    0\n",
              "fwver       0\n",
              "errtype     0\n",
              "errcode     1\n",
              "dtype: int64"
            ]
          },
          "metadata": {},
          "execution_count": 41
        }
      ]
    },
    {
      "cell_type": "markdown",
      "source": [
        "# 전처리"
      ],
      "metadata": {
        "id": "9LKwzSEo2inc"
      }
    },
    {
      "cell_type": "code",
      "source": [
        "# time 컬럼의 데이터 처리\n",
        "import datetime"
      ],
      "metadata": {
        "id": "4hVMzfAj2tRP"
      },
      "execution_count": 49,
      "outputs": []
    },
    {
      "cell_type": "markdown",
      "source": [
        "### error data 시간 변환\n",
        "error data의 경우 사이즈가 커서 time column을 변환하는데 많은 시간이 소요되었습니다(40분 이상)  \n",
        "때문에 변환한 결과를 별도의 csv파일로 추출하여 앞으로는 그 파일을 사용할 예정입니다."
      ],
      "metadata": {
        "id": "IOJR5juCIyOk"
      }
    },
    {
      "cell_type": "code",
      "source": [
        "train_error.time"
      ],
      "metadata": {
        "colab": {
          "base_uri": "https://localhost:8080/"
        },
        "id": "4rvdxoxp836e",
        "outputId": "4f73a331-c13c-4071-a0ac-8367ff313dc8"
      },
      "execution_count": 62,
      "outputs": [
        {
          "output_type": "execute_result",
          "data": {
            "text/plain": [
              "0          1970-01-01 05:36:41.101025616\n",
              "1          1970-01-01 05:36:41.101030309\n",
              "2          1970-01-01 05:36:41.101030309\n",
              "3          1970-01-01 05:36:41.101050514\n",
              "4          1970-01-01 05:36:41.101050515\n",
              "                        ...             \n",
              "16554658   1970-01-01 05:36:41.130163051\n",
              "16554659   1970-01-01 05:36:41.130172625\n",
              "16554660   1970-01-01 05:36:41.130172625\n",
              "16554661   1970-01-01 05:36:41.130172631\n",
              "16554662   1970-01-01 05:36:41.130210625\n",
              "Name: time, Length: 16554663, dtype: datetime64[ns]"
            ]
          },
          "metadata": {},
          "execution_count": 62
        }
      ]
    },
    {
      "cell_type": "code",
      "source": [
        "# # error 로그\n",
        "# train_error.time = pd.to_datetime(train_error.time.astype('str'))\n",
        "# test_error.time = pd.to_datetime(test_error.time.astype('str'))"
      ],
      "metadata": {
        "id": "ggkBza9S3mew"
      },
      "execution_count": 64,
      "outputs": []
    },
    {
      "cell_type": "code",
      "source": [
        "# from pandas import DataFrame\n",
        "# train_error.to_csv(\"/content/drive/MyDrive/Colab Notebooks/data/235687_시스템 품질 변화로 인한 사용자 불편 예지 AI 경진대회_data/convert/train_err_data_.csv\", sep=\",\", na_rep=\"NaN\")"
      ],
      "metadata": {
        "id": "nGhZDYfrE1ju"
      },
      "execution_count": 65,
      "outputs": []
    },
    {
      "cell_type": "code",
      "source": [
        "# test_error.to_csv(\"/content/drive/MyDrive/Colab Notebooks/data/235687_시스템 품질 변화로 인한 사용자 불편 예지 AI 경진대회_data/convert/test_err_data_.csv\", sep=\",\", na_rep=\"NaN\")"
      ],
      "metadata": {
        "id": "qz9vWmsBFj40"
      },
      "execution_count": 66,
      "outputs": []
    },
    {
      "cell_type": "code",
      "source": [
        "train_error.head()"
      ],
      "metadata": {
        "colab": {
          "base_uri": "https://localhost:8080/",
          "height": 206
        },
        "id": "MjeDSKq27vTe",
        "outputId": "c148a1d1-7e00-4f57-db5e-42e42acdab31"
      },
      "execution_count": 67,
      "outputs": [
        {
          "output_type": "execute_result",
          "data": {
            "text/plain": [
              "   user_id                time model_nm       fwver  errtype errcode\n",
              "0    10000 2020-11-01 02:56:16  model_3  05.15.2138       15       1\n",
              "1    10000 2020-11-01 03:03:09  model_3  05.15.2138       12       1\n",
              "2    10000 2020-11-01 03:03:09  model_3  05.15.2138       11       1\n",
              "3    10000 2020-11-01 05:05:14  model_3  05.15.2138       16       1\n",
              "4    10000 2020-11-01 05:05:15  model_3  05.15.2138        4       0"
            ],
            "text/html": [
              "\n",
              "  <div id=\"df-2d790207-33c3-44d4-b91a-a6cb5d055608\">\n",
              "    <div class=\"colab-df-container\">\n",
              "      <div>\n",
              "<style scoped>\n",
              "    .dataframe tbody tr th:only-of-type {\n",
              "        vertical-align: middle;\n",
              "    }\n",
              "\n",
              "    .dataframe tbody tr th {\n",
              "        vertical-align: top;\n",
              "    }\n",
              "\n",
              "    .dataframe thead th {\n",
              "        text-align: right;\n",
              "    }\n",
              "</style>\n",
              "<table border=\"1\" class=\"dataframe\">\n",
              "  <thead>\n",
              "    <tr style=\"text-align: right;\">\n",
              "      <th></th>\n",
              "      <th>user_id</th>\n",
              "      <th>time</th>\n",
              "      <th>model_nm</th>\n",
              "      <th>fwver</th>\n",
              "      <th>errtype</th>\n",
              "      <th>errcode</th>\n",
              "    </tr>\n",
              "  </thead>\n",
              "  <tbody>\n",
              "    <tr>\n",
              "      <th>0</th>\n",
              "      <td>10000</td>\n",
              "      <td>2020-11-01 02:56:16</td>\n",
              "      <td>model_3</td>\n",
              "      <td>05.15.2138</td>\n",
              "      <td>15</td>\n",
              "      <td>1</td>\n",
              "    </tr>\n",
              "    <tr>\n",
              "      <th>1</th>\n",
              "      <td>10000</td>\n",
              "      <td>2020-11-01 03:03:09</td>\n",
              "      <td>model_3</td>\n",
              "      <td>05.15.2138</td>\n",
              "      <td>12</td>\n",
              "      <td>1</td>\n",
              "    </tr>\n",
              "    <tr>\n",
              "      <th>2</th>\n",
              "      <td>10000</td>\n",
              "      <td>2020-11-01 03:03:09</td>\n",
              "      <td>model_3</td>\n",
              "      <td>05.15.2138</td>\n",
              "      <td>11</td>\n",
              "      <td>1</td>\n",
              "    </tr>\n",
              "    <tr>\n",
              "      <th>3</th>\n",
              "      <td>10000</td>\n",
              "      <td>2020-11-01 05:05:14</td>\n",
              "      <td>model_3</td>\n",
              "      <td>05.15.2138</td>\n",
              "      <td>16</td>\n",
              "      <td>1</td>\n",
              "    </tr>\n",
              "    <tr>\n",
              "      <th>4</th>\n",
              "      <td>10000</td>\n",
              "      <td>2020-11-01 05:05:15</td>\n",
              "      <td>model_3</td>\n",
              "      <td>05.15.2138</td>\n",
              "      <td>4</td>\n",
              "      <td>0</td>\n",
              "    </tr>\n",
              "  </tbody>\n",
              "</table>\n",
              "</div>\n",
              "      <button class=\"colab-df-convert\" onclick=\"convertToInteractive('df-2d790207-33c3-44d4-b91a-a6cb5d055608')\"\n",
              "              title=\"Convert this dataframe to an interactive table.\"\n",
              "              style=\"display:none;\">\n",
              "        \n",
              "  <svg xmlns=\"http://www.w3.org/2000/svg\" height=\"24px\"viewBox=\"0 0 24 24\"\n",
              "       width=\"24px\">\n",
              "    <path d=\"M0 0h24v24H0V0z\" fill=\"none\"/>\n",
              "    <path d=\"M18.56 5.44l.94 2.06.94-2.06 2.06-.94-2.06-.94-.94-2.06-.94 2.06-2.06.94zm-11 1L8.5 8.5l.94-2.06 2.06-.94-2.06-.94L8.5 2.5l-.94 2.06-2.06.94zm10 10l.94 2.06.94-2.06 2.06-.94-2.06-.94-.94-2.06-.94 2.06-2.06.94z\"/><path d=\"M17.41 7.96l-1.37-1.37c-.4-.4-.92-.59-1.43-.59-.52 0-1.04.2-1.43.59L10.3 9.45l-7.72 7.72c-.78.78-.78 2.05 0 2.83L4 21.41c.39.39.9.59 1.41.59.51 0 1.02-.2 1.41-.59l7.78-7.78 2.81-2.81c.8-.78.8-2.07 0-2.86zM5.41 20L4 18.59l7.72-7.72 1.47 1.35L5.41 20z\"/>\n",
              "  </svg>\n",
              "      </button>\n",
              "      \n",
              "  <style>\n",
              "    .colab-df-container {\n",
              "      display:flex;\n",
              "      flex-wrap:wrap;\n",
              "      gap: 12px;\n",
              "    }\n",
              "\n",
              "    .colab-df-convert {\n",
              "      background-color: #E8F0FE;\n",
              "      border: none;\n",
              "      border-radius: 50%;\n",
              "      cursor: pointer;\n",
              "      display: none;\n",
              "      fill: #1967D2;\n",
              "      height: 32px;\n",
              "      padding: 0 0 0 0;\n",
              "      width: 32px;\n",
              "    }\n",
              "\n",
              "    .colab-df-convert:hover {\n",
              "      background-color: #E2EBFA;\n",
              "      box-shadow: 0px 1px 2px rgba(60, 64, 67, 0.3), 0px 1px 3px 1px rgba(60, 64, 67, 0.15);\n",
              "      fill: #174EA6;\n",
              "    }\n",
              "\n",
              "    [theme=dark] .colab-df-convert {\n",
              "      background-color: #3B4455;\n",
              "      fill: #D2E3FC;\n",
              "    }\n",
              "\n",
              "    [theme=dark] .colab-df-convert:hover {\n",
              "      background-color: #434B5C;\n",
              "      box-shadow: 0px 1px 3px 1px rgba(0, 0, 0, 0.15);\n",
              "      filter: drop-shadow(0px 1px 2px rgba(0, 0, 0, 0.3));\n",
              "      fill: #FFFFFF;\n",
              "    }\n",
              "  </style>\n",
              "\n",
              "      <script>\n",
              "        const buttonEl =\n",
              "          document.querySelector('#df-2d790207-33c3-44d4-b91a-a6cb5d055608 button.colab-df-convert');\n",
              "        buttonEl.style.display =\n",
              "          google.colab.kernel.accessAllowed ? 'block' : 'none';\n",
              "\n",
              "        async function convertToInteractive(key) {\n",
              "          const element = document.querySelector('#df-2d790207-33c3-44d4-b91a-a6cb5d055608');\n",
              "          const dataTable =\n",
              "            await google.colab.kernel.invokeFunction('convertToInteractive',\n",
              "                                                     [key], {});\n",
              "          if (!dataTable) return;\n",
              "\n",
              "          const docLinkHtml = 'Like what you see? Visit the ' +\n",
              "            '<a target=\"_blank\" href=https://colab.research.google.com/notebooks/data_table.ipynb>data table notebook</a>'\n",
              "            + ' to learn more about interactive tables.';\n",
              "          element.innerHTML = '';\n",
              "          dataTable['output_type'] = 'display_data';\n",
              "          await google.colab.output.renderOutput(dataTable, element);\n",
              "          const docLink = document.createElement('div');\n",
              "          docLink.innerHTML = docLinkHtml;\n",
              "          element.appendChild(docLink);\n",
              "        }\n",
              "      </script>\n",
              "    </div>\n",
              "  </div>\n",
              "  "
            ]
          },
          "metadata": {},
          "execution_count": 67
        }
      ]
    },
    {
      "cell_type": "code",
      "source": [
        "test_error.head()"
      ],
      "metadata": {
        "colab": {
          "base_uri": "https://localhost:8080/",
          "height": 206
        },
        "id": "6yPqPfkG8Bgo",
        "outputId": "c92d0840-f071-4bb4-ad99-f2c7ecdcac13"
      },
      "execution_count": 68,
      "outputs": [
        {
          "output_type": "execute_result",
          "data": {
            "text/plain": [
              "   user_id                time model_nm       fwver  errtype errcode\n",
              "0    30000 2020-11-01 03:02:27  model_1  04.16.3553       31       1\n",
              "1    30000 2020-11-01 03:02:27  model_1  04.16.3553       33       2\n",
              "2    30000 2020-11-01 03:02:28  model_1  04.16.3553       15       1\n",
              "3    30000 2020-11-01 03:02:56  model_1  04.16.3553       22       1\n",
              "4    30000 2020-11-01 03:03:00  model_1  04.16.3553       11       1"
            ],
            "text/html": [
              "\n",
              "  <div id=\"df-a43a274a-9afc-40d2-a8a2-1396d42cf8c6\">\n",
              "    <div class=\"colab-df-container\">\n",
              "      <div>\n",
              "<style scoped>\n",
              "    .dataframe tbody tr th:only-of-type {\n",
              "        vertical-align: middle;\n",
              "    }\n",
              "\n",
              "    .dataframe tbody tr th {\n",
              "        vertical-align: top;\n",
              "    }\n",
              "\n",
              "    .dataframe thead th {\n",
              "        text-align: right;\n",
              "    }\n",
              "</style>\n",
              "<table border=\"1\" class=\"dataframe\">\n",
              "  <thead>\n",
              "    <tr style=\"text-align: right;\">\n",
              "      <th></th>\n",
              "      <th>user_id</th>\n",
              "      <th>time</th>\n",
              "      <th>model_nm</th>\n",
              "      <th>fwver</th>\n",
              "      <th>errtype</th>\n",
              "      <th>errcode</th>\n",
              "    </tr>\n",
              "  </thead>\n",
              "  <tbody>\n",
              "    <tr>\n",
              "      <th>0</th>\n",
              "      <td>30000</td>\n",
              "      <td>2020-11-01 03:02:27</td>\n",
              "      <td>model_1</td>\n",
              "      <td>04.16.3553</td>\n",
              "      <td>31</td>\n",
              "      <td>1</td>\n",
              "    </tr>\n",
              "    <tr>\n",
              "      <th>1</th>\n",
              "      <td>30000</td>\n",
              "      <td>2020-11-01 03:02:27</td>\n",
              "      <td>model_1</td>\n",
              "      <td>04.16.3553</td>\n",
              "      <td>33</td>\n",
              "      <td>2</td>\n",
              "    </tr>\n",
              "    <tr>\n",
              "      <th>2</th>\n",
              "      <td>30000</td>\n",
              "      <td>2020-11-01 03:02:28</td>\n",
              "      <td>model_1</td>\n",
              "      <td>04.16.3553</td>\n",
              "      <td>15</td>\n",
              "      <td>1</td>\n",
              "    </tr>\n",
              "    <tr>\n",
              "      <th>3</th>\n",
              "      <td>30000</td>\n",
              "      <td>2020-11-01 03:02:56</td>\n",
              "      <td>model_1</td>\n",
              "      <td>04.16.3553</td>\n",
              "      <td>22</td>\n",
              "      <td>1</td>\n",
              "    </tr>\n",
              "    <tr>\n",
              "      <th>4</th>\n",
              "      <td>30000</td>\n",
              "      <td>2020-11-01 03:03:00</td>\n",
              "      <td>model_1</td>\n",
              "      <td>04.16.3553</td>\n",
              "      <td>11</td>\n",
              "      <td>1</td>\n",
              "    </tr>\n",
              "  </tbody>\n",
              "</table>\n",
              "</div>\n",
              "      <button class=\"colab-df-convert\" onclick=\"convertToInteractive('df-a43a274a-9afc-40d2-a8a2-1396d42cf8c6')\"\n",
              "              title=\"Convert this dataframe to an interactive table.\"\n",
              "              style=\"display:none;\">\n",
              "        \n",
              "  <svg xmlns=\"http://www.w3.org/2000/svg\" height=\"24px\"viewBox=\"0 0 24 24\"\n",
              "       width=\"24px\">\n",
              "    <path d=\"M0 0h24v24H0V0z\" fill=\"none\"/>\n",
              "    <path d=\"M18.56 5.44l.94 2.06.94-2.06 2.06-.94-2.06-.94-.94-2.06-.94 2.06-2.06.94zm-11 1L8.5 8.5l.94-2.06 2.06-.94-2.06-.94L8.5 2.5l-.94 2.06-2.06.94zm10 10l.94 2.06.94-2.06 2.06-.94-2.06-.94-.94-2.06-.94 2.06-2.06.94z\"/><path d=\"M17.41 7.96l-1.37-1.37c-.4-.4-.92-.59-1.43-.59-.52 0-1.04.2-1.43.59L10.3 9.45l-7.72 7.72c-.78.78-.78 2.05 0 2.83L4 21.41c.39.39.9.59 1.41.59.51 0 1.02-.2 1.41-.59l7.78-7.78 2.81-2.81c.8-.78.8-2.07 0-2.86zM5.41 20L4 18.59l7.72-7.72 1.47 1.35L5.41 20z\"/>\n",
              "  </svg>\n",
              "      </button>\n",
              "      \n",
              "  <style>\n",
              "    .colab-df-container {\n",
              "      display:flex;\n",
              "      flex-wrap:wrap;\n",
              "      gap: 12px;\n",
              "    }\n",
              "\n",
              "    .colab-df-convert {\n",
              "      background-color: #E8F0FE;\n",
              "      border: none;\n",
              "      border-radius: 50%;\n",
              "      cursor: pointer;\n",
              "      display: none;\n",
              "      fill: #1967D2;\n",
              "      height: 32px;\n",
              "      padding: 0 0 0 0;\n",
              "      width: 32px;\n",
              "    }\n",
              "\n",
              "    .colab-df-convert:hover {\n",
              "      background-color: #E2EBFA;\n",
              "      box-shadow: 0px 1px 2px rgba(60, 64, 67, 0.3), 0px 1px 3px 1px rgba(60, 64, 67, 0.15);\n",
              "      fill: #174EA6;\n",
              "    }\n",
              "\n",
              "    [theme=dark] .colab-df-convert {\n",
              "      background-color: #3B4455;\n",
              "      fill: #D2E3FC;\n",
              "    }\n",
              "\n",
              "    [theme=dark] .colab-df-convert:hover {\n",
              "      background-color: #434B5C;\n",
              "      box-shadow: 0px 1px 3px 1px rgba(0, 0, 0, 0.15);\n",
              "      filter: drop-shadow(0px 1px 2px rgba(0, 0, 0, 0.3));\n",
              "      fill: #FFFFFF;\n",
              "    }\n",
              "  </style>\n",
              "\n",
              "      <script>\n",
              "        const buttonEl =\n",
              "          document.querySelector('#df-a43a274a-9afc-40d2-a8a2-1396d42cf8c6 button.colab-df-convert');\n",
              "        buttonEl.style.display =\n",
              "          google.colab.kernel.accessAllowed ? 'block' : 'none';\n",
              "\n",
              "        async function convertToInteractive(key) {\n",
              "          const element = document.querySelector('#df-a43a274a-9afc-40d2-a8a2-1396d42cf8c6');\n",
              "          const dataTable =\n",
              "            await google.colab.kernel.invokeFunction('convertToInteractive',\n",
              "                                                     [key], {});\n",
              "          if (!dataTable) return;\n",
              "\n",
              "          const docLinkHtml = 'Like what you see? Visit the ' +\n",
              "            '<a target=\"_blank\" href=https://colab.research.google.com/notebooks/data_table.ipynb>data table notebook</a>'\n",
              "            + ' to learn more about interactive tables.';\n",
              "          element.innerHTML = '';\n",
              "          dataTable['output_type'] = 'display_data';\n",
              "          await google.colab.output.renderOutput(dataTable, element);\n",
              "          const docLink = document.createElement('div');\n",
              "          docLink.innerHTML = docLinkHtml;\n",
              "          element.appendChild(docLink);\n",
              "        }\n",
              "      </script>\n",
              "    </div>\n",
              "  </div>\n",
              "  "
            ]
          },
          "metadata": {},
          "execution_count": 68
        }
      ]
    },
    {
      "cell_type": "markdown",
      "source": [
        "### problem data 시간 변환"
      ],
      "metadata": {
        "id": "mUzZ2D4hJZu8"
      }
    },
    {
      "cell_type": "code",
      "source": [
        "# problem 로그\n",
        "train_problem.time = pd.to_datetime(train_problem.time.astype('str'))\n",
        "problem_user = train_problem.user_id.unique()\n",
        "new_problem_user = list(set(train_error.user_id.unique()) - set(problem_user))"
      ],
      "metadata": {
        "id": "DgqpxEKu47Q7"
      },
      "execution_count": 50,
      "outputs": []
    },
    {
      "cell_type": "code",
      "source": [
        "train_problem.head()"
      ],
      "metadata": {
        "colab": {
          "base_uri": "https://localhost:8080/",
          "height": 206
        },
        "id": "EPBFNDT07vQH",
        "outputId": "dec3edf2-2286-4902-9919-e2b04cb0d1e6"
      },
      "execution_count": 53,
      "outputs": [
        {
          "output_type": "execute_result",
          "data": {
            "text/plain": [
              "   user_id                time\n",
              "0    19224 2020-11-02 20:00:00\n",
              "1    23664 2020-11-16 14:00:00\n",
              "2    15166 2020-11-14 13:00:00\n",
              "3    12590 2020-11-08 21:00:00\n",
              "4    15932 2020-11-03 21:00:00"
            ],
            "text/html": [
              "\n",
              "  <div id=\"df-c5a6407b-d786-4fa1-b095-24e0317b7a3e\">\n",
              "    <div class=\"colab-df-container\">\n",
              "      <div>\n",
              "<style scoped>\n",
              "    .dataframe tbody tr th:only-of-type {\n",
              "        vertical-align: middle;\n",
              "    }\n",
              "\n",
              "    .dataframe tbody tr th {\n",
              "        vertical-align: top;\n",
              "    }\n",
              "\n",
              "    .dataframe thead th {\n",
              "        text-align: right;\n",
              "    }\n",
              "</style>\n",
              "<table border=\"1\" class=\"dataframe\">\n",
              "  <thead>\n",
              "    <tr style=\"text-align: right;\">\n",
              "      <th></th>\n",
              "      <th>user_id</th>\n",
              "      <th>time</th>\n",
              "    </tr>\n",
              "  </thead>\n",
              "  <tbody>\n",
              "    <tr>\n",
              "      <th>0</th>\n",
              "      <td>19224</td>\n",
              "      <td>2020-11-02 20:00:00</td>\n",
              "    </tr>\n",
              "    <tr>\n",
              "      <th>1</th>\n",
              "      <td>23664</td>\n",
              "      <td>2020-11-16 14:00:00</td>\n",
              "    </tr>\n",
              "    <tr>\n",
              "      <th>2</th>\n",
              "      <td>15166</td>\n",
              "      <td>2020-11-14 13:00:00</td>\n",
              "    </tr>\n",
              "    <tr>\n",
              "      <th>3</th>\n",
              "      <td>12590</td>\n",
              "      <td>2020-11-08 21:00:00</td>\n",
              "    </tr>\n",
              "    <tr>\n",
              "      <th>4</th>\n",
              "      <td>15932</td>\n",
              "      <td>2020-11-03 21:00:00</td>\n",
              "    </tr>\n",
              "  </tbody>\n",
              "</table>\n",
              "</div>\n",
              "      <button class=\"colab-df-convert\" onclick=\"convertToInteractive('df-c5a6407b-d786-4fa1-b095-24e0317b7a3e')\"\n",
              "              title=\"Convert this dataframe to an interactive table.\"\n",
              "              style=\"display:none;\">\n",
              "        \n",
              "  <svg xmlns=\"http://www.w3.org/2000/svg\" height=\"24px\"viewBox=\"0 0 24 24\"\n",
              "       width=\"24px\">\n",
              "    <path d=\"M0 0h24v24H0V0z\" fill=\"none\"/>\n",
              "    <path d=\"M18.56 5.44l.94 2.06.94-2.06 2.06-.94-2.06-.94-.94-2.06-.94 2.06-2.06.94zm-11 1L8.5 8.5l.94-2.06 2.06-.94-2.06-.94L8.5 2.5l-.94 2.06-2.06.94zm10 10l.94 2.06.94-2.06 2.06-.94-2.06-.94-.94-2.06-.94 2.06-2.06.94z\"/><path d=\"M17.41 7.96l-1.37-1.37c-.4-.4-.92-.59-1.43-.59-.52 0-1.04.2-1.43.59L10.3 9.45l-7.72 7.72c-.78.78-.78 2.05 0 2.83L4 21.41c.39.39.9.59 1.41.59.51 0 1.02-.2 1.41-.59l7.78-7.78 2.81-2.81c.8-.78.8-2.07 0-2.86zM5.41 20L4 18.59l7.72-7.72 1.47 1.35L5.41 20z\"/>\n",
              "  </svg>\n",
              "      </button>\n",
              "      \n",
              "  <style>\n",
              "    .colab-df-container {\n",
              "      display:flex;\n",
              "      flex-wrap:wrap;\n",
              "      gap: 12px;\n",
              "    }\n",
              "\n",
              "    .colab-df-convert {\n",
              "      background-color: #E8F0FE;\n",
              "      border: none;\n",
              "      border-radius: 50%;\n",
              "      cursor: pointer;\n",
              "      display: none;\n",
              "      fill: #1967D2;\n",
              "      height: 32px;\n",
              "      padding: 0 0 0 0;\n",
              "      width: 32px;\n",
              "    }\n",
              "\n",
              "    .colab-df-convert:hover {\n",
              "      background-color: #E2EBFA;\n",
              "      box-shadow: 0px 1px 2px rgba(60, 64, 67, 0.3), 0px 1px 3px 1px rgba(60, 64, 67, 0.15);\n",
              "      fill: #174EA6;\n",
              "    }\n",
              "\n",
              "    [theme=dark] .colab-df-convert {\n",
              "      background-color: #3B4455;\n",
              "      fill: #D2E3FC;\n",
              "    }\n",
              "\n",
              "    [theme=dark] .colab-df-convert:hover {\n",
              "      background-color: #434B5C;\n",
              "      box-shadow: 0px 1px 3px 1px rgba(0, 0, 0, 0.15);\n",
              "      filter: drop-shadow(0px 1px 2px rgba(0, 0, 0, 0.3));\n",
              "      fill: #FFFFFF;\n",
              "    }\n",
              "  </style>\n",
              "\n",
              "      <script>\n",
              "        const buttonEl =\n",
              "          document.querySelector('#df-c5a6407b-d786-4fa1-b095-24e0317b7a3e button.colab-df-convert');\n",
              "        buttonEl.style.display =\n",
              "          google.colab.kernel.accessAllowed ? 'block' : 'none';\n",
              "\n",
              "        async function convertToInteractive(key) {\n",
              "          const element = document.querySelector('#df-c5a6407b-d786-4fa1-b095-24e0317b7a3e');\n",
              "          const dataTable =\n",
              "            await google.colab.kernel.invokeFunction('convertToInteractive',\n",
              "                                                     [key], {});\n",
              "          if (!dataTable) return;\n",
              "\n",
              "          const docLinkHtml = 'Like what you see? Visit the ' +\n",
              "            '<a target=\"_blank\" href=https://colab.research.google.com/notebooks/data_table.ipynb>data table notebook</a>'\n",
              "            + ' to learn more about interactive tables.';\n",
              "          element.innerHTML = '';\n",
              "          dataTable['output_type'] = 'display_data';\n",
              "          await google.colab.output.renderOutput(dataTable, element);\n",
              "          const docLink = document.createElement('div');\n",
              "          docLink.innerHTML = docLinkHtml;\n",
              "          element.appendChild(docLink);\n",
              "        }\n",
              "      </script>\n",
              "    </div>\n",
              "  </div>\n",
              "  "
            ]
          },
          "metadata": {},
          "execution_count": 53
        }
      ]
    },
    {
      "cell_type": "markdown",
      "source": [
        "### quality data 시간 변환\n"
      ],
      "metadata": {
        "id": "mVmbEsovJfNu"
      }
    },
    {
      "cell_type": "code",
      "source": [
        "# quality 로그\n",
        "new_train_quality = train_quality[['time','user_id']].drop_duplicates().reset_index(drop=True)\n",
        "new_train_quality.time = pd.to_datetime(new_train_quality.time.astype('str'))"
      ],
      "metadata": {
        "id": "5uqauPrW5h4k"
      },
      "execution_count": 51,
      "outputs": []
    },
    {
      "cell_type": "code",
      "source": [
        "new_train_quality.head()"
      ],
      "metadata": {
        "colab": {
          "base_uri": "https://localhost:8080/",
          "height": 206
        },
        "id": "6wuMhyLa7vKI",
        "outputId": "eb060be2-2cd6-4a2a-e18b-c217a4944023"
      },
      "execution_count": 56,
      "outputs": [
        {
          "output_type": "execute_result",
          "data": {
            "text/plain": [
              "                 time  user_id\n",
              "0 2020-11-29 09:00:00    10000\n",
              "1 2020-11-30 21:00:00    10000\n",
              "2 2020-11-04 11:00:00    10002\n",
              "3 2020-11-06 01:00:00    10002\n",
              "4 2020-11-11 01:00:00    10002"
            ],
            "text/html": [
              "\n",
              "  <div id=\"df-8223b34d-3117-4156-9856-3cc75edadc04\">\n",
              "    <div class=\"colab-df-container\">\n",
              "      <div>\n",
              "<style scoped>\n",
              "    .dataframe tbody tr th:only-of-type {\n",
              "        vertical-align: middle;\n",
              "    }\n",
              "\n",
              "    .dataframe tbody tr th {\n",
              "        vertical-align: top;\n",
              "    }\n",
              "\n",
              "    .dataframe thead th {\n",
              "        text-align: right;\n",
              "    }\n",
              "</style>\n",
              "<table border=\"1\" class=\"dataframe\">\n",
              "  <thead>\n",
              "    <tr style=\"text-align: right;\">\n",
              "      <th></th>\n",
              "      <th>time</th>\n",
              "      <th>user_id</th>\n",
              "    </tr>\n",
              "  </thead>\n",
              "  <tbody>\n",
              "    <tr>\n",
              "      <th>0</th>\n",
              "      <td>2020-11-29 09:00:00</td>\n",
              "      <td>10000</td>\n",
              "    </tr>\n",
              "    <tr>\n",
              "      <th>1</th>\n",
              "      <td>2020-11-30 21:00:00</td>\n",
              "      <td>10000</td>\n",
              "    </tr>\n",
              "    <tr>\n",
              "      <th>2</th>\n",
              "      <td>2020-11-04 11:00:00</td>\n",
              "      <td>10002</td>\n",
              "    </tr>\n",
              "    <tr>\n",
              "      <th>3</th>\n",
              "      <td>2020-11-06 01:00:00</td>\n",
              "      <td>10002</td>\n",
              "    </tr>\n",
              "    <tr>\n",
              "      <th>4</th>\n",
              "      <td>2020-11-11 01:00:00</td>\n",
              "      <td>10002</td>\n",
              "    </tr>\n",
              "  </tbody>\n",
              "</table>\n",
              "</div>\n",
              "      <button class=\"colab-df-convert\" onclick=\"convertToInteractive('df-8223b34d-3117-4156-9856-3cc75edadc04')\"\n",
              "              title=\"Convert this dataframe to an interactive table.\"\n",
              "              style=\"display:none;\">\n",
              "        \n",
              "  <svg xmlns=\"http://www.w3.org/2000/svg\" height=\"24px\"viewBox=\"0 0 24 24\"\n",
              "       width=\"24px\">\n",
              "    <path d=\"M0 0h24v24H0V0z\" fill=\"none\"/>\n",
              "    <path d=\"M18.56 5.44l.94 2.06.94-2.06 2.06-.94-2.06-.94-.94-2.06-.94 2.06-2.06.94zm-11 1L8.5 8.5l.94-2.06 2.06-.94-2.06-.94L8.5 2.5l-.94 2.06-2.06.94zm10 10l.94 2.06.94-2.06 2.06-.94-2.06-.94-.94-2.06-.94 2.06-2.06.94z\"/><path d=\"M17.41 7.96l-1.37-1.37c-.4-.4-.92-.59-1.43-.59-.52 0-1.04.2-1.43.59L10.3 9.45l-7.72 7.72c-.78.78-.78 2.05 0 2.83L4 21.41c.39.39.9.59 1.41.59.51 0 1.02-.2 1.41-.59l7.78-7.78 2.81-2.81c.8-.78.8-2.07 0-2.86zM5.41 20L4 18.59l7.72-7.72 1.47 1.35L5.41 20z\"/>\n",
              "  </svg>\n",
              "      </button>\n",
              "      \n",
              "  <style>\n",
              "    .colab-df-container {\n",
              "      display:flex;\n",
              "      flex-wrap:wrap;\n",
              "      gap: 12px;\n",
              "    }\n",
              "\n",
              "    .colab-df-convert {\n",
              "      background-color: #E8F0FE;\n",
              "      border: none;\n",
              "      border-radius: 50%;\n",
              "      cursor: pointer;\n",
              "      display: none;\n",
              "      fill: #1967D2;\n",
              "      height: 32px;\n",
              "      padding: 0 0 0 0;\n",
              "      width: 32px;\n",
              "    }\n",
              "\n",
              "    .colab-df-convert:hover {\n",
              "      background-color: #E2EBFA;\n",
              "      box-shadow: 0px 1px 2px rgba(60, 64, 67, 0.3), 0px 1px 3px 1px rgba(60, 64, 67, 0.15);\n",
              "      fill: #174EA6;\n",
              "    }\n",
              "\n",
              "    [theme=dark] .colab-df-convert {\n",
              "      background-color: #3B4455;\n",
              "      fill: #D2E3FC;\n",
              "    }\n",
              "\n",
              "    [theme=dark] .colab-df-convert:hover {\n",
              "      background-color: #434B5C;\n",
              "      box-shadow: 0px 1px 3px 1px rgba(0, 0, 0, 0.15);\n",
              "      filter: drop-shadow(0px 1px 2px rgba(0, 0, 0, 0.3));\n",
              "      fill: #FFFFFF;\n",
              "    }\n",
              "  </style>\n",
              "\n",
              "      <script>\n",
              "        const buttonEl =\n",
              "          document.querySelector('#df-8223b34d-3117-4156-9856-3cc75edadc04 button.colab-df-convert');\n",
              "        buttonEl.style.display =\n",
              "          google.colab.kernel.accessAllowed ? 'block' : 'none';\n",
              "\n",
              "        async function convertToInteractive(key) {\n",
              "          const element = document.querySelector('#df-8223b34d-3117-4156-9856-3cc75edadc04');\n",
              "          const dataTable =\n",
              "            await google.colab.kernel.invokeFunction('convertToInteractive',\n",
              "                                                     [key], {});\n",
              "          if (!dataTable) return;\n",
              "\n",
              "          const docLinkHtml = 'Like what you see? Visit the ' +\n",
              "            '<a target=\"_blank\" href=https://colab.research.google.com/notebooks/data_table.ipynb>data table notebook</a>'\n",
              "            + ' to learn more about interactive tables.';\n",
              "          element.innerHTML = '';\n",
              "          dataTable['output_type'] = 'display_data';\n",
              "          await google.colab.output.renderOutput(dataTable, element);\n",
              "          const docLink = document.createElement('div');\n",
              "          docLink.innerHTML = docLinkHtml;\n",
              "          element.appendChild(docLink);\n",
              "        }\n",
              "      </script>\n",
              "    </div>\n",
              "  </div>\n",
              "  "
            ]
          },
          "metadata": {},
          "execution_count": 56
        }
      ]
    },
    {
      "cell_type": "markdown",
      "source": [
        "# 모델링"
      ],
      "metadata": {
        "id": "camWOrM677fv"
      }
    },
    {
      "cell_type": "code",
      "source": [
        "\n",
        "import datetime as dt\n",
        "from tqdm import tqdm\n",
        "import gc\n",
        "import random\n",
        "import lightgbm as lgb\n",
        "import re\n",
        "from sklearn.metrics import *\n",
        "from sklearn.model_selection import KFold\n",
        "import warnings\n",
        "warnings.filterwarnings(action='ignore')\n",
        "\n",
        "# 필요한 함수 정의\n",
        "def make_datetime(x):\n",
        "    # string 타입의 Time column을 datetime 타입으로 변경\n",
        "    x     = str(x)\n",
        "    year  = int(x[:4])\n",
        "    month = int(x[4:6])\n",
        "    day   = int(x[6:8])\n",
        "    hour  = int(x[8:10])\n",
        "    #mim  = int(x[10:12])\n",
        "    #sec  = int(x[12:])\n",
        "    return dt.datetime(year, month, day, hour)\n",
        "\n",
        "def string2num(x):\n",
        "    # (,)( )과 같은 불필요한 데이터 정제\n",
        "    x = re.sub(r\"[^0-9]+\", '', str(x))\n",
        "    if x =='':\n",
        "        return 0\n",
        "    else:\n",
        "        return int(x)\n",
        "\n",
        "\n",
        "PATH = '{데이터가 저장된 폴더 경로}'"
      ],
      "metadata": {
        "id": "J7Bnjjq31zn9"
      },
      "execution_count": null,
      "outputs": []
    },
    {
      "cell_type": "code",
      "source": [
        "# 데이터 설명을 확인하면\n",
        "# ueser_id가 10000부터 24999까지 총 15000개가 연속적으로 존재.\n",
        "display(train_error.head())\n",
        "train_user_id_max = 24999\n",
        "train_user_id_min = 10000\n",
        "train_user_number = 15000"
      ],
      "metadata": {
        "id": "ND7cxXRw-Oe0"
      },
      "execution_count": null,
      "outputs": []
    },
    {
      "cell_type": "code",
      "source": [
        "print(np.sort(train_error.errtype.unique()))\n",
        "# errtype이 1부터 42까지 29를 제외한 41개가 존재."
      ],
      "metadata": {
        "id": "Yud-1eM8-ZBC"
      },
      "execution_count": null,
      "outputs": []
    },
    {
      "cell_type": "code",
      "source": [
        "# user_id와 errtype만을 사용하여 데이터 셋 생성\n",
        "# 모든 일자에 대해서 errtype별 발생 건수를 count\n",
        "# pandas의 groupby를 활용할 경우 큰 연산 자원이 필요.\n",
        "# numpy로 placeholder를 만들어 구현함.\n",
        "id_error = train_error[['user_id','errtype']].values\n",
        "error = np.zeros((train_user_number,42))\n",
        "\n",
        "for person_idx, err in tqdm(id_error):\n",
        "    # person_idx - train_user_id_min 위치에 person_idx, errtype에 해당하는 error값을 +1\n",
        "    error[person_idx - train_user_id_min,err - 1] += 1\n",
        "error.shape"
      ],
      "metadata": {
        "id": "zeM55UtB-b6z"
      },
      "execution_count": null,
      "outputs": []
    },
    {
      "cell_type": "code",
      "source": [
        "problem = np.zeros(15000)\n",
        "# error와 동일한 방법으로 person_idx - 10000 위치에 \n",
        "# person_idx의 problem이 한 번이라도 발생했다면 1\n",
        "# 없다면 0\n",
        "problem[train_problem.user_id.unique()-10000] = 1\n",
        "problem.shape"
      ],
      "metadata": {
        "id": "3_n-5epE-jB5"
      },
      "execution_count": null,
      "outputs": []
    },
    {
      "cell_type": "code",
      "source": [
        "# 변수 이름 변경\n",
        "# error  -> train_x\n",
        "# problem-> train_y\n",
        "\n",
        "train_x = error\n",
        "train_y = problem\n",
        "del error, problem\n",
        "print(train_x.shape)\n",
        "print(train_y.shape)"
      ],
      "metadata": {
        "id": "8JYrhUFX-2sx"
      },
      "execution_count": null,
      "outputs": []
    },
    {
      "cell_type": "code",
      "source": [
        "# Light-gbm 모델 훈련\n",
        "# Train\n",
        "#-------------------------------------------------------------------------------------\n",
        "# validation auc score를 확인하기 위해 정의\n",
        "def f_pr_auc(probas_pred, y_true):\n",
        "    labels=y_true.get_label()\n",
        "    p, r, _ = precision_recall_curve(labels, probas_pred)\n",
        "    score=auc(r,p) \n",
        "    return \"pr_auc\", score, True\n",
        "#-------------------------------------------------------------------------------------\n",
        "models     = []\n",
        "recalls    = []\n",
        "precisions = []\n",
        "auc_scores   = []\n",
        "threshold = 0.5\n",
        "# 파라미터 설정\n",
        "params =      {\n",
        "                'boosting_type' : 'gbdt',\n",
        "                'objective'     : 'binary',\n",
        "                'metric'        : 'auc',\n",
        "                'seed': 1015\n",
        "                }\n",
        "#-------------------------------------------------------------------------------------\n",
        "# 5 Kfold cross validation\n",
        "k_fold = KFold(n_splits=5, shuffle=True, random_state=42)\n",
        "for train_idx, val_idx in k_fold.split(train_x):\n",
        "\n",
        "    # split train, validation set\n",
        "    X = train_x[train_idx]\n",
        "    y = train_y[train_idx]\n",
        "    valid_x = train_x[val_idx]\n",
        "    valid_y = train_y[val_idx]\n",
        "\n",
        "    d_train= lgb.Dataset(X, y)\n",
        "    d_val  = lgb.Dataset(valid_x, valid_y)\n",
        "    \n",
        "    #run traning\n",
        "    model = lgb.train(\n",
        "                        params,\n",
        "                        train_set       = d_train,\n",
        "                        num_boost_round = 1000,\n",
        "                        valid_sets      = d_val,\n",
        "                        feval           = f_pr_auc,\n",
        "                        verbose_eval    = 20, \n",
        "                        early_stopping_rounds = 3\n",
        "                       )\n",
        "    \n",
        "    # cal valid prediction\n",
        "    valid_prob = model.predict(valid_x)\n",
        "    valid_pred = np.where(valid_prob > threshold, 1, 0)\n",
        "    \n",
        "    # cal scores\n",
        "    recall    = recall_score(    valid_y, valid_pred)\n",
        "    precision = precision_score( valid_y, valid_pred)\n",
        "    auc_score = roc_auc_score(   valid_y, valid_prob)\n",
        "\n",
        "    # append scores\n",
        "    models.append(model)\n",
        "    recalls.append(recall)\n",
        "    precisions.append(precision)\n",
        "    auc_scores.append(auc_score)\n",
        "\n",
        "    print('==========================================================')"
      ],
      "metadata": {
        "id": "oA_DrRskAABM"
      },
      "execution_count": null,
      "outputs": []
    },
    {
      "cell_type": "code",
      "source": [
        "# 교차검증 점수 확인\n",
        "print(np.mean(auc_scores))"
      ],
      "metadata": {
        "id": "KeQExn6cAK8Z"
      },
      "execution_count": null,
      "outputs": []
    },
    {
      "cell_type": "code",
      "source": [
        "# 제출 파일 생성\n",
        "test_err  = pd.read_csv(base_path+'test_err_data.csv')\n",
        "display(test_err.head())"
      ],
      "metadata": {
        "id": "XFStcQ8UBEql"
      },
      "execution_count": null,
      "outputs": []
    },
    {
      "cell_type": "code",
      "source": [
        "# 데이터 설명을 확인하면\n",
        "# test 데이터는 ueser_id가 30000부터 44998까지 총 14999개가 존재.\n",
        "test_user_id_max = 44998\n",
        "test_user_id_min = 30000\n",
        "test_user_number = 14999"
      ],
      "metadata": {
        "id": "ydqIIhpfBOna"
      },
      "execution_count": null,
      "outputs": []
    },
    {
      "cell_type": "code",
      "source": [
        "id_error = test_err[['user_id','errtype']].values\n",
        "test_x = np.zeros((test_user_number,42))\n",
        "for person_idx, err in tqdm(id_error):\n",
        "    # person_idx - test_user_id_min 위치에 person_idx, errtype에 해당하는 error값을 +1\n",
        "    test_x[person_idx - test_user_id_min,err - 1] += 1\n",
        "test_x = test_x.reshape(test_x.shape[0],-1)\n",
        "print(test_x.shape)"
      ],
      "metadata": {
        "id": "eM2ahkPcBRrP"
      },
      "execution_count": null,
      "outputs": []
    },
    {
      "cell_type": "code",
      "source": [
        "# 예측\n",
        "pred_y_list = []\n",
        "for model in models:\n",
        "    pred_y = model.predict(test_x)\n",
        "    pred_y_list.append(pred_y.reshape(-1,1))\n",
        "    \n",
        "pred_ensemble = np.mean(pred_y_list, axis = 0)"
      ],
      "metadata": {
        "id": "IH6JGi72BSzY"
      },
      "execution_count": null,
      "outputs": []
    },
    {
      "cell_type": "code",
      "source": [
        "pred_ensemble"
      ],
      "metadata": {
        "id": "QvOkDet6BUkp"
      },
      "execution_count": null,
      "outputs": []
    },
    {
      "cell_type": "code",
      "source": [
        "sample_submssion = pd.read_csv(base_path+'sample_submission.csv')"
      ],
      "metadata": {
        "id": "gKQBkauJBWy1"
      },
      "execution_count": null,
      "outputs": []
    },
    {
      "cell_type": "code",
      "source": [
        "sample_submssion['problem'] = pred_ensemble.reshape(-1)"
      ],
      "metadata": {
        "id": "2LdlVQU8Bbcv"
      },
      "execution_count": null,
      "outputs": []
    },
    {
      "cell_type": "code",
      "source": [
        "sample_submssion.to_csv(\"dacon_baseline.csv\", index = False)\n",
        "sample_submssion"
      ],
      "metadata": {
        "id": "H98V_GupBbLz"
      },
      "execution_count": null,
      "outputs": []
    },
    {
      "cell_type": "code",
      "source": [
        ""
      ],
      "metadata": {
        "id": "hu1RtqxDBea1"
      },
      "execution_count": null,
      "outputs": []
    }
  ]
}